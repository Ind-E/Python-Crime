{
 "cells": [
  {
   "cell_type": "code",
   "execution_count": 3,
   "metadata": {},
   "outputs": [],
   "source": [
    "import pandas as pd\n",
    "import requests\n",
    "import seaborn as sns\n",
    "import matplotlib.pyplot as plt\n",
    "from scipy.stats import ttest_ind\n",
    "key = '6pQ1XOFvDCRG0DpNsdgIhcyiCmfUafzMzPETHn3K'"
   ]
  },
  {
   "cell_type": "code",
   "execution_count": 2,
   "metadata": {},
   "outputs": [],
   "source": [
    "# national robbery 2012-2022\n",
    "\n",
    "national_url = f'https://api.usa.gov/crime/fbi/cde/nibrs/national/robbery?from=1-2012&type=Counts&to=12-2022&API_KEY={key}'\n",
    "\n",
    "response = requests.get(national_url)\n",
    "if response.status_code == 200:\n",
    "    national = response.json()\n",
    "else:\n",
    "    print(f\"Error: {response.status_code}\")"
   ]
  },
  {
   "cell_type": "code",
   "execution_count": 3,
   "metadata": {},
   "outputs": [
    {
     "data": {
      "text/plain": [
       "{'victim': {'age': {'0-9': 6818,\n",
       "   '10-19': 160410,\n",
       "   '20-29': 354698,\n",
       "   '30-39': 234768,\n",
       "   '40-49': 157054,\n",
       "   '50-59': 124766,\n",
       "   '60-69': 62371,\n",
       "   '70-79': 18980,\n",
       "   '80-89': 5864,\n",
       "   'Unknown': 8082,\n",
       "   '90-Older': 972},\n",
       "  'sex': {'Male': 735628,\n",
       "   'Female': 395723,\n",
       "   'Unknown': 3432,\n",
       "   'Not Specified': 199070},\n",
       "  'race': {'Asian': 40950,\n",
       "   'White': 670286,\n",
       "   'Unknown': 42670,\n",
       "   'Multiple': 0,\n",
       "   'Not Specified': 199070,\n",
       "   'Black or African American': 366800,\n",
       "   'American Indian or Alaska Native': 9407,\n",
       "   'Native Hawaiian or Other Pacific Islander': 4670,\n",
       "   'Asian, Native Hawaiian, or Other Pacific Islander': 0},\n",
       "  'location': {'Rest Area': 732,\n",
       "   'Cyberspace': 0,\n",
       "   'Restaurant': 57118,\n",
       "   'Field/Woods': 8640,\n",
       "   'Liquor Store': 8745,\n",
       "   'Tribal Lands': 65,\n",
       "   'Bar/Nightclub': 9578,\n",
       "   'Farm Facility': 97,\n",
       "   'Not Specified': 0,\n",
       "   'Other/Unknown': 43827,\n",
       "   'Shopping Mall': 6451,\n",
       "   'Amusement Park': 290,\n",
       "   'Residence/Home': 248894,\n",
       "   'School/College': 1265,\n",
       "   'Camp/Campground': 379,\n",
       "   'Industrial Site': 341,\n",
       "   'Park/Playground': 17848,\n",
       "   'Specialty Store': 46181,\n",
       "   'Community Center': 417,\n",
       "   'Daycare Facility': 116,\n",
       "   'Hotel/Motel/Etc.': 28167,\n",
       "   'Construction Site': 1099,\n",
       "   'Convenience Store': 116176,\n",
       "   'Grocery/Supermarket': 37216,\n",
       "   'Lake/Waterway/Beach': 695,\n",
       "   'Service/Gas Station': 56014,\n",
       "   'Bank/Savings and Loan': 33768,\n",
       "   'Military Installation': 8,\n",
       "   'ATM Separate from Bank': 1312,\n",
       "   'Air/Bus/Train Terminal': 8508,\n",
       "   'Parking/Drop Lot/Garage': 128665,\n",
       "   'Rental Storage Facility': 855,\n",
       "   'Auto Dealership New/Used': 924,\n",
       "   'Shelter-Mission/Homeless': 521,\n",
       "   'Department/Discount Store': 74394,\n",
       "   'School-College/University': 1634,\n",
       "   'Commercial/Office Building': 19170,\n",
       "   'Government/Public Building': 2285,\n",
       "   'School-Elementary/Secondary': 4551,\n",
       "   'Abandoned/Condemned Structure': 635,\n",
       "   'Church/Synagogue/Temple/Mosque': 1705,\n",
       "   'Dock/Wharf/Freight/Modal Terminal': 362,\n",
       "   'Arena/Stadium/Fairgrounds/Coliseum': 249,\n",
       "   'Highway/Road/Alley/Street/Sidewalk': 342379,\n",
       "   \"Drug Store/Doctor's Office/Hospital\": 18166,\n",
       "   'Gambling Facility/Casino/Race Track': 2920,\n",
       "   'Jail/Prison/Penitentiary/Corrections Facility': 491},\n",
       "  'ethnicity': {'Unknown': 142408,\n",
       "   'Multiple': 0,\n",
       "   'Not Specified': 308215,\n",
       "   'Hispanic or Latino': 195751,\n",
       "   'Not Hispanic or Latino': 687479},\n",
       "  'relationship': {'Child': 478,\n",
       "   'Friend': 20838,\n",
       "   'In-law': 451,\n",
       "   'Parent': 3647,\n",
       "   'Spouse': 1730,\n",
       "   'Sibling': 1635,\n",
       "   'Employee': 1841,\n",
       "   'Employer': 562,\n",
       "   'Neighbor': 2497,\n",
       "   'Offender': 2101,\n",
       "   'Stranger': 700005,\n",
       "   'Ex-Spouse': 1825,\n",
       "   'Stepchild': 130,\n",
       "   'Babysittee': 189,\n",
       "   'Grandchild': 16,\n",
       "   'Stepparent': 235,\n",
       "   'Grandparent': 659,\n",
       "   'Stepsibling': 231,\n",
       "   'Acquaintance': 144912,\n",
       "   'Foster Child': 0,\n",
       "   'Foster Parent': 0,\n",
       "   'Otherwise Known': 63380,\n",
       "   'Common-Law Spouse': 363,\n",
       "   'Other Family Member': 5563,\n",
       "   'Boyfriend/Girlfriend': 22321,\n",
       "   'Relationship Unknown': 681097,\n",
       "   'Homosexual Relationship': 383,\n",
       "   'Child of Boyfriend or Girlfriend': 332,\n",
       "   'Cohabitant (non-intimate relationship)': 0,\n",
       "   'Ex-Relationship (Ex-Boyfriend/Girlfriend)': 5167}},\n",
       " 'offense': {'weapons': {'None': 97963,\n",
       "   'Other': 40826,\n",
       "   'Rifle': 7848,\n",
       "   'Poison': 555,\n",
       "   'Firearm': 81801,\n",
       "   'Handgun': 313211,\n",
       "   'Shotgun': 6709,\n",
       "   'Unarmed': 0,\n",
       "   'Unknown': 34662,\n",
       "   'Drowning': 0,\n",
       "   'Explosives': 591,\n",
       "   'Asphyxiation': 1004,\n",
       "   'Blunt Object': 29678,\n",
       "   'Other Firearm': 6571,\n",
       "   'Personal Weapons': 303741,\n",
       "   'Rifle (Automatic)': 741,\n",
       "   'Firearm (Automatic)': 3832,\n",
       "   'Handgun (Automatic)': 18331,\n",
       "   'Shotgun (Automatic)': 90,\n",
       "   'Motor Vehicle/Vessel': 5196,\n",
       "   'Fire/Incendiary Device': 275,\n",
       "   'Knife/Cutting Instrument': 80929,\n",
       "   'Lethal Cutting Instrument': 0,\n",
       "   'Other Firearm (Automatic)': 293,\n",
       "   'Pushed or Thrown Out Window': 0,\n",
       "   'Club/Blackjack/Brass Knuckles': 0,\n",
       "   'Drugs/Narcotics/Sleeping Pills': 281,\n",
       "   'Strangulation - Include Hanging': 0},\n",
       "  'related_offenses': {'Rape': 2913,\n",
       "   'Arson': 256,\n",
       "   'Incest': 1,\n",
       "   'Sodomy': 828,\n",
       "   'Bribery': 47,\n",
       "   'Perjury': 0,\n",
       "   'Robbery': 0,\n",
       "   'Runaway': 0,\n",
       "   'Treason': 0,\n",
       "   'Espionage': 0,\n",
       "   'Bad Checks': 0,\n",
       "   'Wire Fraud': 56,\n",
       "   'Drunkenness': 0,\n",
       "   'Peeping Tom': 0,\n",
       "   'Shoplifting': 3238,\n",
       "   'Embezzlement': 60,\n",
       "   'Intimidation': 2570,\n",
       "   'Prostitution': 225,\n",
       "   'Impersonation': 928,\n",
       "   'Not Specified': 0,\n",
       "   'Welfare Fraud': 12,\n",
       "   'Animal Cruelty': 90,\n",
       "   'Identity Theft': 374,\n",
       "   'Pocket-picking': 58,\n",
       "   'Simple Assault': 9642,\n",
       "   'Statutory Rape': 14,\n",
       "   'Purse-snatching': 95,\n",
       "   'Betting/Wagering': 4,\n",
       "   'Money Laundering': 0,\n",
       "   'Smuggling Aliens': 0,\n",
       "   'Sports Tampering': 0,\n",
       "   'All Other Larceny': 3412,\n",
       "   'Export Violations': 0,\n",
       "   'Failure to Appear': 0,\n",
       "   'False Citizenship': 0,\n",
       "   'Import Violations': 0,\n",
       "   'Aggravated Assault': 12626,\n",
       "   'All Other Offenses': 0,\n",
       "   'Disorderly Conduct': 0,\n",
       "   'Extortion/Blackmail': 305,\n",
       "   'Motor Vehicle Theft': 4051,\n",
       "   'Theft From Building': 1186,\n",
       "   'Explosives Violation': 0,\n",
       "   'Justifiable Homicide': 0,\n",
       "   'Kidnapping/Abduction': 17698,\n",
       "   'Wildlife Trafficking': 0,\n",
       "   'Liquor Law Violations': 0,\n",
       "   'Weapon Law Violations': 39101,\n",
       "   'Counterfeiting/Forgery': 810,\n",
       "   'Negligent Manslaughter': 14,\n",
       "   'Criminal Sexual Contact': 1124,\n",
       "   'Federal Liquor Offenses': 0,\n",
       "   'Purchasing Prostitution': 32,\n",
       "   'Drug/Narcotic Violations': 13552,\n",
       "   'Federal Tobacco Offenses': 0,\n",
       "   'Stolen Property Offenses': 4052,\n",
       "   'Theft From Motor Vehicle': 906,\n",
       "   'Drug Equipment Violations': 5618,\n",
       "   'Hacking/Computer Invasion': 13,\n",
       "   'Trespass of Real Property': 0,\n",
       "   'Re-entry after Deportation': 0,\n",
       "   'Driving Under the Influence': 0,\n",
       "   'Family Offenses, Nonviolent': 0,\n",
       "   'Federal Resource Violations': 0,\n",
       "   'Flight to Avoid Deportation': 0,\n",
       "   'Flight to Avoid Prosecution': 1,\n",
       "   'Weapons of Mass Destruction': 0,\n",
       "   'Burglary/Breaking & Entering': 16927,\n",
       "   'Gambling Equipment Violation': 1,\n",
       "   'Pornography/Obscene Material': 46,\n",
       "   'Sexual Assault With An Object': 269,\n",
       "   'Assisting or Promoting Prostitution': 132,\n",
       "   'Curfew/Loitering/Vagrancy Violations': 0,\n",
       "   'Illegal Entry into the United States': 0,\n",
       "   'Murder and Nonnegligent Manslaughter': 2098,\n",
       "   'Failure to Register as a Sex Offender': 0,\n",
       "   'Human Trafficking, Commercial Sex Acts': 43,\n",
       "   'Operating/Promoting/Assisting Gambling': 9,\n",
       "   'False Pretenses/Swindle/Confidence Game': 1257,\n",
       "   'Destruction/Damage/Vandalism of Property': 19955,\n",
       "   'Harboring Escapee/Concealing from Arrest': 0,\n",
       "   'Human Trafficking, Involuntary Servitude': 7,\n",
       "   'Violation of National Firearm Act of 1934': 0,\n",
       "   'Credit Card/Automated Teller Machine Fraud': 1629,\n",
       "   'Theft From Coin-Operated Machine or Device': 10,\n",
       "   'Theft of Motor Vehicle Parts or Accessories': 114}},\n",
       " 'offender': {'age': {'0-9': 1388,\n",
       "   '10-19': 304692,\n",
       "   '20-29': 440549,\n",
       "   '30-39': 192199,\n",
       "   '40-49': 69866,\n",
       "   '50-59': 40302,\n",
       "   '60-69': 5624,\n",
       "   '70-79': 565,\n",
       "   '80-89': 216,\n",
       "   'Unknown': 360495,\n",
       "   '90-Older': 1840},\n",
       "  'sex': {'Male': 1173109,\n",
       "   'Female': 157784,\n",
       "   'Unknown': 86177,\n",
       "   'Not Specified': 167806},\n",
       "  'race': {'Asian': 8287,\n",
       "   'White': 391186,\n",
       "   'Unknown': 141192,\n",
       "   'Multiple': 0,\n",
       "   'Not Specified': 167806,\n",
       "   'Black or African American': 862942,\n",
       "   'American Indian or Alaska Native': 9079,\n",
       "   'Native Hawaiian or Other Pacific Islander': 4384,\n",
       "   'Asian, Native Hawaiian, or Other Pacific Islander': 0},\n",
       "  'ethnicity': {'Unknown': 216078,\n",
       "   'Multiple': 0,\n",
       "   'Not Specified': 840994,\n",
       "   'Hispanic or Latino': 101784,\n",
       "   'Not Hispanic or Latino': 426020}},\n",
       " 'cde_properties': {'max_data_date': {'UCR': '12/2023'},\n",
       "  'last_refresh_date': {'UCR': '4/9/2024'}}}"
      ]
     },
     "execution_count": 3,
     "metadata": {},
     "output_type": "execute_result"
    }
   ],
   "source": [
    "national.get('victim').get('location')"
   ]
  },
  {
   "cell_type": "code",
   "execution_count": 39,
   "metadata": {},
   "outputs": [],
   "source": [
    "# Maya - work on most robbed locations by state\n",
    "\n",
    "# california robbery 2012-2022\n",
    "\n",
    "cali_url = 'https://api.usa.gov/crime/fbi/cde/nibrs/state/CA/robbery?from=1-2012&to=12-2022&API_KEY=6pQ1XOFvDCRG0DpNsdgIhcyiCmfUafzMzPETHn3K'\n",
    "\n",
    "response = requests.get(cali_url)\n",
    "if response.status_code == 200:\n",
    "    cali = response.json()\n",
    "else:\n",
    "    print(f\"Error: {response.status_code}\")"
   ]
  },
  {
   "cell_type": "code",
   "execution_count": 74,
   "metadata": {},
   "outputs": [
    {
     "name": "stdout",
     "output_type": "stream",
     "text": [
      "                             MostCommonCrimeScene State\n",
      "0                                       Rest Area    MI\n",
      "1                                      Cyberspace    AK\n",
      "2                                      Restaurant    TX\n",
      "3                                     Field/Woods    TX\n",
      "4                                    Liquor Store    CO\n",
      "5                                    Tribal Lands    AZ\n",
      "6                                   Bar/Nightclub    TX\n",
      "7                                   Farm Facility    CA\n",
      "8                                   Not Specified    AK\n",
      "9                                   Other/Unknown    OH\n",
      "10                                  Shopping Mall    TX\n",
      "11                                 Amusement Park    TX\n",
      "12                                 Residence/Home    TN\n",
      "13                                 School/College    WA\n",
      "14                                Camp/Campground    OR\n",
      "15                                Industrial Site    OH\n",
      "16                                Park/Playground    TX\n",
      "17                                Specialty Store    TX\n",
      "18                               Community Center    TX\n",
      "19                               Daycare Facility    TN\n",
      "20                               Hotel/Motel/Etc.    TX\n",
      "21                              Construction Site    TX\n",
      "22                              Convenience Store    TX\n",
      "23                            Grocery/Supermarket    WA\n",
      "24                            Lake/Waterway/Beach    HI\n",
      "25                            Service/Gas Station    TX\n",
      "26                          Bank/Savings and Loan    CO\n",
      "27                          Military Installation    TX\n",
      "28                         ATM Separate from Bank    TX\n",
      "29                         Air/Bus/Train Terminal    IL\n",
      "30                        Parking/Drop Lot/Garage    TX\n",
      "31                        Rental Storage Facility    TX\n",
      "32                       Auto Dealership New/Used    TX\n",
      "33                       Shelter-Mission/Homeless    UT\n",
      "34                      Department/Discount Store    TX\n",
      "35                      School-College/University    SC\n",
      "36                     Commercial/Office Building    TX\n",
      "37                     Government/Public Building    MA\n",
      "38                    School-Elementary/Secondary    MI\n",
      "39                  Abandoned/Condemned Structure    OH\n",
      "40                 Church/Synagogue/Temple/Mosque    TN\n",
      "41              Dock/Wharf/Freight/Modal Terminal    PA\n",
      "42             Arena/Stadium/Fairgrounds/Coliseum    OH\n",
      "43             Highway/Road/Alley/Street/Sidewalk    OH\n",
      "44            Drug Store/Doctor's Office/Hospital    TX\n",
      "45            Gambling Facility/Casino/Race Track    NC\n",
      "46  Jail/Prison/Penitentiary/Corrections Facility    TX\n"
     ]
    }
   ],
   "source": [
    "crimescene = cali.get('victim').get('location').keys()\n",
    "crimescene = {}\n",
    "\n",
    "link1 = cali_url[:46]\n",
    "link2 = cali_url[48:]\n",
    "\n",
    "states = [\"AK\", \"AL\", \"AR\", \"AZ\", \"CA\", \"CO\", \"CT\", \"DE\", \"FL\", \"GA\", \"HI\", \"IA\",\n",
    "    \"ID\", \"IL\", \"IN\", \"KS\", \"KY\", \"LA\", \"MA\", \"MD\", \"ME\", \"MI\", \"MN\", \"MO\",\n",
    "    \"MS\", \"MT\", \"NC\", \"ND\", \"NE\", \"NH\", \"NJ\", \"NM\", \"NV\", \"NY\", \"OH\", \"OK\",\n",
    "    \"OR\", \"PA\", \"RI\", \"SC\", \"SD\", \"TN\", \"TX\", \"UT\", \"VA\", \"VT\", \"WA\", \"WI\",\n",
    "    \"WV\", \"WY\"]\n",
    "\n",
    "for state in states:\n",
    "    link = link1 + state + link2\n",
    "    response = requests.get(link)\n",
    "    if response.status_code == 200:\n",
    "        link = response.json()\n",
    "        crimescene[f'{state}'] = (pd.Series(link.get('victim').get('location')))\n",
    "    else:\n",
    "        print(f\"Error: {response.status_code}\")\n",
    "\n",
    "\n",
    "# print(crimescene)\n",
    "\n",
    "# nth most common crime scene for each state\n",
    "def index_common(crimescene, n=1):\n",
    "    if n < 1 or n > len(crimescene):\n",
    "        print (\"Index out of range\")\n",
    "    crimescene_df = pd.DataFrame(crimescene).T.fillna(0)\n",
    "    nth_common = crimescene_df.apply(lambda col: col.nlargest(n).index[-1])\n",
    "    return nth_common \n",
    "\n",
    "commoncrimescene = index_common(crimescene, 1).reset_index()\n",
    "commoncrimescene.columns = ['MostCommonCrimeScene', 'State']\n",
    "\n",
    "print(commoncrimescene)"
   ]
  },
  {
   "cell_type": "code",
   "execution_count": null,
   "metadata": {},
   "outputs": [],
   "source": [
    "crimescene = cali.get('victim').get('location').keys()\n",
    "crimescene = {}\n",
    "\n",
    "link1 = cali_url[:46]\n",
    "link2 = cali_url[48:]\n",
    "\n",
    "states = [\"AK\", \"AL\", \"AR\", \"AZ\", \"CA\", \"CO\", \"CT\", \"DE\", \"FL\", \"GA\", \"HI\", \"IA\",\n",
    "          \"ID\", \"IL\", \"IN\", \"KS\", \"KY\", \"LA\", \"MA\", \"MD\", \"ME\", \"MI\", \"MN\", \"MO\",\n",
    "          \"MS\", \"MT\", \"NC\", \"ND\", \"NE\", \"NH\", \"NJ\", \"NM\", \"NV\", \"NY\", \"OH\", \"OK\",\n",
    "          \"OR\", \"PA\", \"RI\", \"SC\", \"SD\", \"TN\", \"TX\", \"UT\", \"VA\", \"VT\", \"WA\", \"WI\",\n",
    "          \"WV\", \"WY\"]\n",
    "\n",
    "for state in states:\n",
    "    link = link1 + state + link2\n",
    "    response = requests.get(link)\n",
    "    if response.status_code == 200:\n",
    "        link = response.json()\n",
    "        crimescene[f'{state}'] = (pd.Series(link.get('victim').get('location')))\n",
    "    else:\n",
    "        print(f\"Error: {response.status_code}\")"
   ]
  },
  {
   "cell_type": "code",
   "execution_count": 98,
   "metadata": {},
   "outputs": [],
   "source": [
    "import pandas as pd\n",
    "import plotly.graph_objects as go\n",
    "import plotly.express as px"
   ]
  },
  {
   "cell_type": "code",
   "execution_count": 127,
   "metadata": {},
   "outputs": [],
   "source": [
    "crimescene_df = pd.DataFrame(crimescene).T.fillna(0)\n",
    "state_colors = crimescene_df.apply('idxmax', axis=1)\n",
    "state_colors = state_colors.reset_index()\n",
    "state_colors.columns = ['State', 'MostCommonCrimeScene']\n",
    "\n",
    "crime_scenes = state_colors['MostCommonCrimeScene'].unique()\n",
    "color_map = {scene: px.colors.qualitative.Plotly[i % len(px.colors.qualitative.Plotly)]\n",
    "             for i, scene in enumerate(crime_scenes)}\n",
    "\n",
    "state_colors['Color'] = state_colors['MostCommonCrimeScene'].map(color_map)"
   ]
  },
  {
   "cell_type": "code",
   "execution_count": 135,
   "metadata": {},
   "outputs": [
    {
     "data": {
      "text/plain": [
       "array(['#636EFA', '#EF553B', '#00CC96', '#AB63FA'], dtype=object)"
      ]
     },
     "execution_count": 135,
     "metadata": {},
     "output_type": "execute_result"
    }
   ],
   "source": [
    "state_colors['Color'].unique()"
   ]
  },
  {
   "cell_type": "code",
   "execution_count": 136,
   "metadata": {},
   "outputs": [
    {
     "data": {
      "application/vnd.plotly.v1+json": {
       "config": {
        "plotlyServerURL": "https://plot.ly"
       },
       "data": [
        {
         "colorscale": [
          [
           0,
           "#636EFA"
          ],
          [
           1,
           "#636EFA"
          ]
         ],
         "geo": "geo",
         "hovertemplate": "color=Residence/Home<br>locations=%{location}<extra></extra>",
         "locationmode": "USA-states",
         "locations": [
          "AK",
          "AL",
          "AR",
          "FL",
          "GA",
          "ID",
          "IN",
          "KS",
          "KY",
          "LA",
          "ME",
          "MS",
          "NC",
          "ND",
          "NE",
          "OK",
          "SC",
          "TN",
          "TX",
          "WY"
         ],
         "name": "Residence/Home",
         "showlegend": true,
         "showscale": false,
         "type": "choropleth",
         "z": [
          1,
          1,
          1,
          1,
          1,
          1,
          1,
          1,
          1,
          1,
          1,
          1,
          1,
          1,
          1,
          1,
          1,
          1,
          1,
          1
         ]
        },
        {
         "colorscale": [
          [
           0,
           "#EF553B"
          ],
          [
           1,
           "#EF553B"
          ]
         ],
         "geo": "geo",
         "hovertemplate": "color=Highway/Road/Alley/Street/Sidewalk<br>locations=%{location}<extra></extra>",
         "locationmode": "USA-states",
         "locations": [
          "AZ",
          "CA",
          "CO",
          "CT",
          "DE",
          "HI",
          "IA",
          "IL",
          "MA",
          "MD",
          "MI",
          "MN",
          "MO",
          "MT",
          "NH",
          "NJ",
          "NV",
          "NY",
          "OH",
          "OR",
          "PA",
          "RI",
          "SD",
          "UT",
          "VA",
          "WA",
          "WI",
          "WV"
         ],
         "name": "Highway/Road/Alley/Street/Sidewalk",
         "showlegend": true,
         "showscale": false,
         "type": "choropleth",
         "z": [
          1,
          1,
          1,
          1,
          1,
          1,
          1,
          1,
          1,
          1,
          1,
          1,
          1,
          1,
          1,
          1,
          1,
          1,
          1,
          1,
          1,
          1,
          1,
          1,
          1,
          1,
          1,
          1
         ]
        },
        {
         "colorscale": [
          [
           0,
           "#00CC96"
          ],
          [
           1,
           "#00CC96"
          ]
         ],
         "geo": "geo",
         "hovertemplate": "color=Department/Discount Store<br>locations=%{location}<extra></extra>",
         "locationmode": "USA-states",
         "locations": [
          "NM"
         ],
         "name": "Department/Discount Store",
         "showlegend": true,
         "showscale": false,
         "type": "choropleth",
         "z": [
          1
         ]
        },
        {
         "colorscale": [
          [
           0,
           "#AB63FA"
          ],
          [
           1,
           "#AB63FA"
          ]
         ],
         "geo": "geo",
         "hovertemplate": "color=Convenience Store<br>locations=%{location}<extra></extra>",
         "locationmode": "USA-states",
         "locations": [
          "VT"
         ],
         "name": "Convenience Store",
         "showlegend": true,
         "showscale": false,
         "type": "choropleth",
         "z": [
          1
         ]
        }
       ],
       "layout": {
        "geo": {
         "center": {},
         "domain": {
          "x": [
           0,
           1
          ],
          "y": [
           0,
           1
          ]
         },
         "scope": "usa"
        },
        "legend": {
         "title": {
          "text": "color"
         },
         "tracegroupgap": 0
        },
        "margin": {
         "t": 60
        },
        "template": {
         "data": {
          "bar": [
           {
            "error_x": {
             "color": "#2a3f5f"
            },
            "error_y": {
             "color": "#2a3f5f"
            },
            "marker": {
             "line": {
              "color": "#E5ECF6",
              "width": 0.5
             },
             "pattern": {
              "fillmode": "overlay",
              "size": 10,
              "solidity": 0.2
             }
            },
            "type": "bar"
           }
          ],
          "barpolar": [
           {
            "marker": {
             "line": {
              "color": "#E5ECF6",
              "width": 0.5
             },
             "pattern": {
              "fillmode": "overlay",
              "size": 10,
              "solidity": 0.2
             }
            },
            "type": "barpolar"
           }
          ],
          "carpet": [
           {
            "aaxis": {
             "endlinecolor": "#2a3f5f",
             "gridcolor": "white",
             "linecolor": "white",
             "minorgridcolor": "white",
             "startlinecolor": "#2a3f5f"
            },
            "baxis": {
             "endlinecolor": "#2a3f5f",
             "gridcolor": "white",
             "linecolor": "white",
             "minorgridcolor": "white",
             "startlinecolor": "#2a3f5f"
            },
            "type": "carpet"
           }
          ],
          "choropleth": [
           {
            "colorbar": {
             "outlinewidth": 0,
             "ticks": ""
            },
            "type": "choropleth"
           }
          ],
          "contour": [
           {
            "colorbar": {
             "outlinewidth": 0,
             "ticks": ""
            },
            "colorscale": [
             [
              0,
              "#0d0887"
             ],
             [
              0.1111111111111111,
              "#46039f"
             ],
             [
              0.2222222222222222,
              "#7201a8"
             ],
             [
              0.3333333333333333,
              "#9c179e"
             ],
             [
              0.4444444444444444,
              "#bd3786"
             ],
             [
              0.5555555555555556,
              "#d8576b"
             ],
             [
              0.6666666666666666,
              "#ed7953"
             ],
             [
              0.7777777777777778,
              "#fb9f3a"
             ],
             [
              0.8888888888888888,
              "#fdca26"
             ],
             [
              1,
              "#f0f921"
             ]
            ],
            "type": "contour"
           }
          ],
          "contourcarpet": [
           {
            "colorbar": {
             "outlinewidth": 0,
             "ticks": ""
            },
            "type": "contourcarpet"
           }
          ],
          "heatmap": [
           {
            "colorbar": {
             "outlinewidth": 0,
             "ticks": ""
            },
            "colorscale": [
             [
              0,
              "#0d0887"
             ],
             [
              0.1111111111111111,
              "#46039f"
             ],
             [
              0.2222222222222222,
              "#7201a8"
             ],
             [
              0.3333333333333333,
              "#9c179e"
             ],
             [
              0.4444444444444444,
              "#bd3786"
             ],
             [
              0.5555555555555556,
              "#d8576b"
             ],
             [
              0.6666666666666666,
              "#ed7953"
             ],
             [
              0.7777777777777778,
              "#fb9f3a"
             ],
             [
              0.8888888888888888,
              "#fdca26"
             ],
             [
              1,
              "#f0f921"
             ]
            ],
            "type": "heatmap"
           }
          ],
          "heatmapgl": [
           {
            "colorbar": {
             "outlinewidth": 0,
             "ticks": ""
            },
            "colorscale": [
             [
              0,
              "#0d0887"
             ],
             [
              0.1111111111111111,
              "#46039f"
             ],
             [
              0.2222222222222222,
              "#7201a8"
             ],
             [
              0.3333333333333333,
              "#9c179e"
             ],
             [
              0.4444444444444444,
              "#bd3786"
             ],
             [
              0.5555555555555556,
              "#d8576b"
             ],
             [
              0.6666666666666666,
              "#ed7953"
             ],
             [
              0.7777777777777778,
              "#fb9f3a"
             ],
             [
              0.8888888888888888,
              "#fdca26"
             ],
             [
              1,
              "#f0f921"
             ]
            ],
            "type": "heatmapgl"
           }
          ],
          "histogram": [
           {
            "marker": {
             "pattern": {
              "fillmode": "overlay",
              "size": 10,
              "solidity": 0.2
             }
            },
            "type": "histogram"
           }
          ],
          "histogram2d": [
           {
            "colorbar": {
             "outlinewidth": 0,
             "ticks": ""
            },
            "colorscale": [
             [
              0,
              "#0d0887"
             ],
             [
              0.1111111111111111,
              "#46039f"
             ],
             [
              0.2222222222222222,
              "#7201a8"
             ],
             [
              0.3333333333333333,
              "#9c179e"
             ],
             [
              0.4444444444444444,
              "#bd3786"
             ],
             [
              0.5555555555555556,
              "#d8576b"
             ],
             [
              0.6666666666666666,
              "#ed7953"
             ],
             [
              0.7777777777777778,
              "#fb9f3a"
             ],
             [
              0.8888888888888888,
              "#fdca26"
             ],
             [
              1,
              "#f0f921"
             ]
            ],
            "type": "histogram2d"
           }
          ],
          "histogram2dcontour": [
           {
            "colorbar": {
             "outlinewidth": 0,
             "ticks": ""
            },
            "colorscale": [
             [
              0,
              "#0d0887"
             ],
             [
              0.1111111111111111,
              "#46039f"
             ],
             [
              0.2222222222222222,
              "#7201a8"
             ],
             [
              0.3333333333333333,
              "#9c179e"
             ],
             [
              0.4444444444444444,
              "#bd3786"
             ],
             [
              0.5555555555555556,
              "#d8576b"
             ],
             [
              0.6666666666666666,
              "#ed7953"
             ],
             [
              0.7777777777777778,
              "#fb9f3a"
             ],
             [
              0.8888888888888888,
              "#fdca26"
             ],
             [
              1,
              "#f0f921"
             ]
            ],
            "type": "histogram2dcontour"
           }
          ],
          "mesh3d": [
           {
            "colorbar": {
             "outlinewidth": 0,
             "ticks": ""
            },
            "type": "mesh3d"
           }
          ],
          "parcoords": [
           {
            "line": {
             "colorbar": {
              "outlinewidth": 0,
              "ticks": ""
             }
            },
            "type": "parcoords"
           }
          ],
          "pie": [
           {
            "automargin": true,
            "type": "pie"
           }
          ],
          "scatter": [
           {
            "fillpattern": {
             "fillmode": "overlay",
             "size": 10,
             "solidity": 0.2
            },
            "type": "scatter"
           }
          ],
          "scatter3d": [
           {
            "line": {
             "colorbar": {
              "outlinewidth": 0,
              "ticks": ""
             }
            },
            "marker": {
             "colorbar": {
              "outlinewidth": 0,
              "ticks": ""
             }
            },
            "type": "scatter3d"
           }
          ],
          "scattercarpet": [
           {
            "marker": {
             "colorbar": {
              "outlinewidth": 0,
              "ticks": ""
             }
            },
            "type": "scattercarpet"
           }
          ],
          "scattergeo": [
           {
            "marker": {
             "colorbar": {
              "outlinewidth": 0,
              "ticks": ""
             }
            },
            "type": "scattergeo"
           }
          ],
          "scattergl": [
           {
            "marker": {
             "colorbar": {
              "outlinewidth": 0,
              "ticks": ""
             }
            },
            "type": "scattergl"
           }
          ],
          "scattermapbox": [
           {
            "marker": {
             "colorbar": {
              "outlinewidth": 0,
              "ticks": ""
             }
            },
            "type": "scattermapbox"
           }
          ],
          "scatterpolar": [
           {
            "marker": {
             "colorbar": {
              "outlinewidth": 0,
              "ticks": ""
             }
            },
            "type": "scatterpolar"
           }
          ],
          "scatterpolargl": [
           {
            "marker": {
             "colorbar": {
              "outlinewidth": 0,
              "ticks": ""
             }
            },
            "type": "scatterpolargl"
           }
          ],
          "scatterternary": [
           {
            "marker": {
             "colorbar": {
              "outlinewidth": 0,
              "ticks": ""
             }
            },
            "type": "scatterternary"
           }
          ],
          "surface": [
           {
            "colorbar": {
             "outlinewidth": 0,
             "ticks": ""
            },
            "colorscale": [
             [
              0,
              "#0d0887"
             ],
             [
              0.1111111111111111,
              "#46039f"
             ],
             [
              0.2222222222222222,
              "#7201a8"
             ],
             [
              0.3333333333333333,
              "#9c179e"
             ],
             [
              0.4444444444444444,
              "#bd3786"
             ],
             [
              0.5555555555555556,
              "#d8576b"
             ],
             [
              0.6666666666666666,
              "#ed7953"
             ],
             [
              0.7777777777777778,
              "#fb9f3a"
             ],
             [
              0.8888888888888888,
              "#fdca26"
             ],
             [
              1,
              "#f0f921"
             ]
            ],
            "type": "surface"
           }
          ],
          "table": [
           {
            "cells": {
             "fill": {
              "color": "#EBF0F8"
             },
             "line": {
              "color": "white"
             }
            },
            "header": {
             "fill": {
              "color": "#C8D4E3"
             },
             "line": {
              "color": "white"
             }
            },
            "type": "table"
           }
          ]
         },
         "layout": {
          "annotationdefaults": {
           "arrowcolor": "#2a3f5f",
           "arrowhead": 0,
           "arrowwidth": 1
          },
          "autotypenumbers": "strict",
          "coloraxis": {
           "colorbar": {
            "outlinewidth": 0,
            "ticks": ""
           }
          },
          "colorscale": {
           "diverging": [
            [
             0,
             "#8e0152"
            ],
            [
             0.1,
             "#c51b7d"
            ],
            [
             0.2,
             "#de77ae"
            ],
            [
             0.3,
             "#f1b6da"
            ],
            [
             0.4,
             "#fde0ef"
            ],
            [
             0.5,
             "#f7f7f7"
            ],
            [
             0.6,
             "#e6f5d0"
            ],
            [
             0.7,
             "#b8e186"
            ],
            [
             0.8,
             "#7fbc41"
            ],
            [
             0.9,
             "#4d9221"
            ],
            [
             1,
             "#276419"
            ]
           ],
           "sequential": [
            [
             0,
             "#0d0887"
            ],
            [
             0.1111111111111111,
             "#46039f"
            ],
            [
             0.2222222222222222,
             "#7201a8"
            ],
            [
             0.3333333333333333,
             "#9c179e"
            ],
            [
             0.4444444444444444,
             "#bd3786"
            ],
            [
             0.5555555555555556,
             "#d8576b"
            ],
            [
             0.6666666666666666,
             "#ed7953"
            ],
            [
             0.7777777777777778,
             "#fb9f3a"
            ],
            [
             0.8888888888888888,
             "#fdca26"
            ],
            [
             1,
             "#f0f921"
            ]
           ],
           "sequentialminus": [
            [
             0,
             "#0d0887"
            ],
            [
             0.1111111111111111,
             "#46039f"
            ],
            [
             0.2222222222222222,
             "#7201a8"
            ],
            [
             0.3333333333333333,
             "#9c179e"
            ],
            [
             0.4444444444444444,
             "#bd3786"
            ],
            [
             0.5555555555555556,
             "#d8576b"
            ],
            [
             0.6666666666666666,
             "#ed7953"
            ],
            [
             0.7777777777777778,
             "#fb9f3a"
            ],
            [
             0.8888888888888888,
             "#fdca26"
            ],
            [
             1,
             "#f0f921"
            ]
           ]
          },
          "colorway": [
           "#636efa",
           "#EF553B",
           "#00cc96",
           "#ab63fa",
           "#FFA15A",
           "#19d3f3",
           "#FF6692",
           "#B6E880",
           "#FF97FF",
           "#FECB52"
          ],
          "font": {
           "color": "#2a3f5f"
          },
          "geo": {
           "bgcolor": "white",
           "lakecolor": "white",
           "landcolor": "#E5ECF6",
           "showlakes": true,
           "showland": true,
           "subunitcolor": "white"
          },
          "hoverlabel": {
           "align": "left"
          },
          "hovermode": "closest",
          "mapbox": {
           "style": "light"
          },
          "paper_bgcolor": "white",
          "plot_bgcolor": "#E5ECF6",
          "polar": {
           "angularaxis": {
            "gridcolor": "white",
            "linecolor": "white",
            "ticks": ""
           },
           "bgcolor": "#E5ECF6",
           "radialaxis": {
            "gridcolor": "white",
            "linecolor": "white",
            "ticks": ""
           }
          },
          "scene": {
           "xaxis": {
            "backgroundcolor": "#E5ECF6",
            "gridcolor": "white",
            "gridwidth": 2,
            "linecolor": "white",
            "showbackground": true,
            "ticks": "",
            "zerolinecolor": "white"
           },
           "yaxis": {
            "backgroundcolor": "#E5ECF6",
            "gridcolor": "white",
            "gridwidth": 2,
            "linecolor": "white",
            "showbackground": true,
            "ticks": "",
            "zerolinecolor": "white"
           },
           "zaxis": {
            "backgroundcolor": "#E5ECF6",
            "gridcolor": "white",
            "gridwidth": 2,
            "linecolor": "white",
            "showbackground": true,
            "ticks": "",
            "zerolinecolor": "white"
           }
          },
          "shapedefaults": {
           "line": {
            "color": "#2a3f5f"
           }
          },
          "ternary": {
           "aaxis": {
            "gridcolor": "white",
            "linecolor": "white",
            "ticks": ""
           },
           "baxis": {
            "gridcolor": "white",
            "linecolor": "white",
            "ticks": ""
           },
           "bgcolor": "#E5ECF6",
           "caxis": {
            "gridcolor": "white",
            "linecolor": "white",
            "ticks": ""
           }
          },
          "title": {
           "x": 0.05
          },
          "xaxis": {
           "automargin": true,
           "gridcolor": "white",
           "linecolor": "white",
           "ticks": "",
           "title": {
            "standoff": 15
           },
           "zerolinecolor": "white",
           "zerolinewidth": 2
          },
          "yaxis": {
           "automargin": true,
           "gridcolor": "white",
           "linecolor": "white",
           "ticks": "",
           "title": {
            "standoff": 15
           },
           "zerolinecolor": "white",
           "zerolinewidth": 2
          }
         }
        }
       }
      }
     },
     "metadata": {},
     "output_type": "display_data"
    }
   ],
   "source": [
    "fig = px.choropleth(locations=state_colors['State'],\n",
    "                    color=state_colors['MostCommonCrimeScene'],\n",
    "                    locationmode='USA-states',\n",
    "                    scope='usa',\n",
    "                    color_discrete_map=dict(\n",
    "                        zip(crime_scenes, state_colors['Color'].unique())),\n",
    "                    )\n",
    "\n",
    "fig.show()"
   ]
  },
  {
   "cell_type": "code",
   "execution_count": 138,
   "metadata": {},
   "outputs": [],
   "source": [
    "import plotly.io as pio\n",
    "pio.write_html(fig, file='choropleth_map.html', auto_open=True)"
   ]
  },
  {
   "cell_type": "code",
   "execution_count": 107,
   "metadata": {},
   "outputs": [
    {
     "data": {
      "application/vnd.plotly.v1+json": {
       "config": {
        "plotlyServerURL": "https://plot.ly"
       },
       "data": [
        {
         "colorbar": {
          "title": {
           "text": "Crime Scene"
          }
         },
         "colorscale": [
          [
           0,
           "#636EFA"
          ],
          [
           0,
           "#EF553B"
          ],
          [
           0,
           "#00CC96"
          ],
          [
           0,
           "#AB63FA"
          ]
         ],
         "locationmode": "USA-states",
         "locations": [
          "AK",
          "AL",
          "AR",
          "AZ",
          "CA",
          "CO",
          "CT",
          "DE",
          "FL",
          "GA",
          "HI",
          "IA",
          "ID",
          "IL",
          "IN",
          "KS",
          "KY",
          "LA",
          "MA",
          "MD",
          "ME",
          "MI",
          "MN",
          "MO",
          "MS",
          "MT",
          "NC",
          "ND",
          "NE",
          "NH",
          "NJ",
          "NM",
          "NV",
          "NY",
          "OH",
          "OK",
          "OR",
          "PA",
          "RI",
          "SC",
          "SD",
          "TN",
          "TX",
          "UT",
          "VA",
          "VT",
          "WA",
          "WI",
          "WV",
          "WY"
         ],
         "type": "choropleth",
         "z": [
          "Residence/Home",
          "Residence/Home",
          "Residence/Home",
          "Highway/Road/Alley/Street/Sidewalk",
          "Highway/Road/Alley/Street/Sidewalk",
          "Highway/Road/Alley/Street/Sidewalk",
          "Highway/Road/Alley/Street/Sidewalk",
          "Highway/Road/Alley/Street/Sidewalk",
          "Residence/Home",
          "Residence/Home",
          "Highway/Road/Alley/Street/Sidewalk",
          "Highway/Road/Alley/Street/Sidewalk",
          "Residence/Home",
          "Highway/Road/Alley/Street/Sidewalk",
          "Residence/Home",
          "Residence/Home",
          "Residence/Home",
          "Residence/Home",
          "Highway/Road/Alley/Street/Sidewalk",
          "Highway/Road/Alley/Street/Sidewalk",
          "Residence/Home",
          "Highway/Road/Alley/Street/Sidewalk",
          "Highway/Road/Alley/Street/Sidewalk",
          "Highway/Road/Alley/Street/Sidewalk",
          "Residence/Home",
          "Highway/Road/Alley/Street/Sidewalk",
          "Residence/Home",
          "Residence/Home",
          "Residence/Home",
          "Highway/Road/Alley/Street/Sidewalk",
          "Highway/Road/Alley/Street/Sidewalk",
          "Department/Discount Store",
          "Highway/Road/Alley/Street/Sidewalk",
          "Highway/Road/Alley/Street/Sidewalk",
          "Highway/Road/Alley/Street/Sidewalk",
          "Residence/Home",
          "Highway/Road/Alley/Street/Sidewalk",
          "Highway/Road/Alley/Street/Sidewalk",
          "Highway/Road/Alley/Street/Sidewalk",
          "Residence/Home",
          "Highway/Road/Alley/Street/Sidewalk",
          "Residence/Home",
          "Residence/Home",
          "Highway/Road/Alley/Street/Sidewalk",
          "Highway/Road/Alley/Street/Sidewalk",
          "Convenience Store",
          "Highway/Road/Alley/Street/Sidewalk",
          "Highway/Road/Alley/Street/Sidewalk",
          "Highway/Road/Alley/Street/Sidewalk",
          "Residence/Home"
         ]
        }
       ],
       "layout": {
        "geo": {
         "scope": "usa"
        },
        "template": {
         "data": {
          "bar": [
           {
            "error_x": {
             "color": "#2a3f5f"
            },
            "error_y": {
             "color": "#2a3f5f"
            },
            "marker": {
             "line": {
              "color": "#E5ECF6",
              "width": 0.5
             },
             "pattern": {
              "fillmode": "overlay",
              "size": 10,
              "solidity": 0.2
             }
            },
            "type": "bar"
           }
          ],
          "barpolar": [
           {
            "marker": {
             "line": {
              "color": "#E5ECF6",
              "width": 0.5
             },
             "pattern": {
              "fillmode": "overlay",
              "size": 10,
              "solidity": 0.2
             }
            },
            "type": "barpolar"
           }
          ],
          "carpet": [
           {
            "aaxis": {
             "endlinecolor": "#2a3f5f",
             "gridcolor": "white",
             "linecolor": "white",
             "minorgridcolor": "white",
             "startlinecolor": "#2a3f5f"
            },
            "baxis": {
             "endlinecolor": "#2a3f5f",
             "gridcolor": "white",
             "linecolor": "white",
             "minorgridcolor": "white",
             "startlinecolor": "#2a3f5f"
            },
            "type": "carpet"
           }
          ],
          "choropleth": [
           {
            "colorbar": {
             "outlinewidth": 0,
             "ticks": ""
            },
            "type": "choropleth"
           }
          ],
          "contour": [
           {
            "colorbar": {
             "outlinewidth": 0,
             "ticks": ""
            },
            "colorscale": [
             [
              0,
              "#0d0887"
             ],
             [
              0.1111111111111111,
              "#46039f"
             ],
             [
              0.2222222222222222,
              "#7201a8"
             ],
             [
              0.3333333333333333,
              "#9c179e"
             ],
             [
              0.4444444444444444,
              "#bd3786"
             ],
             [
              0.5555555555555556,
              "#d8576b"
             ],
             [
              0.6666666666666666,
              "#ed7953"
             ],
             [
              0.7777777777777778,
              "#fb9f3a"
             ],
             [
              0.8888888888888888,
              "#fdca26"
             ],
             [
              1,
              "#f0f921"
             ]
            ],
            "type": "contour"
           }
          ],
          "contourcarpet": [
           {
            "colorbar": {
             "outlinewidth": 0,
             "ticks": ""
            },
            "type": "contourcarpet"
           }
          ],
          "heatmap": [
           {
            "colorbar": {
             "outlinewidth": 0,
             "ticks": ""
            },
            "colorscale": [
             [
              0,
              "#0d0887"
             ],
             [
              0.1111111111111111,
              "#46039f"
             ],
             [
              0.2222222222222222,
              "#7201a8"
             ],
             [
              0.3333333333333333,
              "#9c179e"
             ],
             [
              0.4444444444444444,
              "#bd3786"
             ],
             [
              0.5555555555555556,
              "#d8576b"
             ],
             [
              0.6666666666666666,
              "#ed7953"
             ],
             [
              0.7777777777777778,
              "#fb9f3a"
             ],
             [
              0.8888888888888888,
              "#fdca26"
             ],
             [
              1,
              "#f0f921"
             ]
            ],
            "type": "heatmap"
           }
          ],
          "heatmapgl": [
           {
            "colorbar": {
             "outlinewidth": 0,
             "ticks": ""
            },
            "colorscale": [
             [
              0,
              "#0d0887"
             ],
             [
              0.1111111111111111,
              "#46039f"
             ],
             [
              0.2222222222222222,
              "#7201a8"
             ],
             [
              0.3333333333333333,
              "#9c179e"
             ],
             [
              0.4444444444444444,
              "#bd3786"
             ],
             [
              0.5555555555555556,
              "#d8576b"
             ],
             [
              0.6666666666666666,
              "#ed7953"
             ],
             [
              0.7777777777777778,
              "#fb9f3a"
             ],
             [
              0.8888888888888888,
              "#fdca26"
             ],
             [
              1,
              "#f0f921"
             ]
            ],
            "type": "heatmapgl"
           }
          ],
          "histogram": [
           {
            "marker": {
             "pattern": {
              "fillmode": "overlay",
              "size": 10,
              "solidity": 0.2
             }
            },
            "type": "histogram"
           }
          ],
          "histogram2d": [
           {
            "colorbar": {
             "outlinewidth": 0,
             "ticks": ""
            },
            "colorscale": [
             [
              0,
              "#0d0887"
             ],
             [
              0.1111111111111111,
              "#46039f"
             ],
             [
              0.2222222222222222,
              "#7201a8"
             ],
             [
              0.3333333333333333,
              "#9c179e"
             ],
             [
              0.4444444444444444,
              "#bd3786"
             ],
             [
              0.5555555555555556,
              "#d8576b"
             ],
             [
              0.6666666666666666,
              "#ed7953"
             ],
             [
              0.7777777777777778,
              "#fb9f3a"
             ],
             [
              0.8888888888888888,
              "#fdca26"
             ],
             [
              1,
              "#f0f921"
             ]
            ],
            "type": "histogram2d"
           }
          ],
          "histogram2dcontour": [
           {
            "colorbar": {
             "outlinewidth": 0,
             "ticks": ""
            },
            "colorscale": [
             [
              0,
              "#0d0887"
             ],
             [
              0.1111111111111111,
              "#46039f"
             ],
             [
              0.2222222222222222,
              "#7201a8"
             ],
             [
              0.3333333333333333,
              "#9c179e"
             ],
             [
              0.4444444444444444,
              "#bd3786"
             ],
             [
              0.5555555555555556,
              "#d8576b"
             ],
             [
              0.6666666666666666,
              "#ed7953"
             ],
             [
              0.7777777777777778,
              "#fb9f3a"
             ],
             [
              0.8888888888888888,
              "#fdca26"
             ],
             [
              1,
              "#f0f921"
             ]
            ],
            "type": "histogram2dcontour"
           }
          ],
          "mesh3d": [
           {
            "colorbar": {
             "outlinewidth": 0,
             "ticks": ""
            },
            "type": "mesh3d"
           }
          ],
          "parcoords": [
           {
            "line": {
             "colorbar": {
              "outlinewidth": 0,
              "ticks": ""
             }
            },
            "type": "parcoords"
           }
          ],
          "pie": [
           {
            "automargin": true,
            "type": "pie"
           }
          ],
          "scatter": [
           {
            "fillpattern": {
             "fillmode": "overlay",
             "size": 10,
             "solidity": 0.2
            },
            "type": "scatter"
           }
          ],
          "scatter3d": [
           {
            "line": {
             "colorbar": {
              "outlinewidth": 0,
              "ticks": ""
             }
            },
            "marker": {
             "colorbar": {
              "outlinewidth": 0,
              "ticks": ""
             }
            },
            "type": "scatter3d"
           }
          ],
          "scattercarpet": [
           {
            "marker": {
             "colorbar": {
              "outlinewidth": 0,
              "ticks": ""
             }
            },
            "type": "scattercarpet"
           }
          ],
          "scattergeo": [
           {
            "marker": {
             "colorbar": {
              "outlinewidth": 0,
              "ticks": ""
             }
            },
            "type": "scattergeo"
           }
          ],
          "scattergl": [
           {
            "marker": {
             "colorbar": {
              "outlinewidth": 0,
              "ticks": ""
             }
            },
            "type": "scattergl"
           }
          ],
          "scattermapbox": [
           {
            "marker": {
             "colorbar": {
              "outlinewidth": 0,
              "ticks": ""
             }
            },
            "type": "scattermapbox"
           }
          ],
          "scatterpolar": [
           {
            "marker": {
             "colorbar": {
              "outlinewidth": 0,
              "ticks": ""
             }
            },
            "type": "scatterpolar"
           }
          ],
          "scatterpolargl": [
           {
            "marker": {
             "colorbar": {
              "outlinewidth": 0,
              "ticks": ""
             }
            },
            "type": "scatterpolargl"
           }
          ],
          "scatterternary": [
           {
            "marker": {
             "colorbar": {
              "outlinewidth": 0,
              "ticks": ""
             }
            },
            "type": "scatterternary"
           }
          ],
          "surface": [
           {
            "colorbar": {
             "outlinewidth": 0,
             "ticks": ""
            },
            "colorscale": [
             [
              0,
              "#0d0887"
             ],
             [
              0.1111111111111111,
              "#46039f"
             ],
             [
              0.2222222222222222,
              "#7201a8"
             ],
             [
              0.3333333333333333,
              "#9c179e"
             ],
             [
              0.4444444444444444,
              "#bd3786"
             ],
             [
              0.5555555555555556,
              "#d8576b"
             ],
             [
              0.6666666666666666,
              "#ed7953"
             ],
             [
              0.7777777777777778,
              "#fb9f3a"
             ],
             [
              0.8888888888888888,
              "#fdca26"
             ],
             [
              1,
              "#f0f921"
             ]
            ],
            "type": "surface"
           }
          ],
          "table": [
           {
            "cells": {
             "fill": {
              "color": "#EBF0F8"
             },
             "line": {
              "color": "white"
             }
            },
            "header": {
             "fill": {
              "color": "#C8D4E3"
             },
             "line": {
              "color": "white"
             }
            },
            "type": "table"
           }
          ]
         },
         "layout": {
          "annotationdefaults": {
           "arrowcolor": "#2a3f5f",
           "arrowhead": 0,
           "arrowwidth": 1
          },
          "autotypenumbers": "strict",
          "coloraxis": {
           "colorbar": {
            "outlinewidth": 0,
            "ticks": ""
           }
          },
          "colorscale": {
           "diverging": [
            [
             0,
             "#8e0152"
            ],
            [
             0.1,
             "#c51b7d"
            ],
            [
             0.2,
             "#de77ae"
            ],
            [
             0.3,
             "#f1b6da"
            ],
            [
             0.4,
             "#fde0ef"
            ],
            [
             0.5,
             "#f7f7f7"
            ],
            [
             0.6,
             "#e6f5d0"
            ],
            [
             0.7,
             "#b8e186"
            ],
            [
             0.8,
             "#7fbc41"
            ],
            [
             0.9,
             "#4d9221"
            ],
            [
             1,
             "#276419"
            ]
           ],
           "sequential": [
            [
             0,
             "#0d0887"
            ],
            [
             0.1111111111111111,
             "#46039f"
            ],
            [
             0.2222222222222222,
             "#7201a8"
            ],
            [
             0.3333333333333333,
             "#9c179e"
            ],
            [
             0.4444444444444444,
             "#bd3786"
            ],
            [
             0.5555555555555556,
             "#d8576b"
            ],
            [
             0.6666666666666666,
             "#ed7953"
            ],
            [
             0.7777777777777778,
             "#fb9f3a"
            ],
            [
             0.8888888888888888,
             "#fdca26"
            ],
            [
             1,
             "#f0f921"
            ]
           ],
           "sequentialminus": [
            [
             0,
             "#0d0887"
            ],
            [
             0.1111111111111111,
             "#46039f"
            ],
            [
             0.2222222222222222,
             "#7201a8"
            ],
            [
             0.3333333333333333,
             "#9c179e"
            ],
            [
             0.4444444444444444,
             "#bd3786"
            ],
            [
             0.5555555555555556,
             "#d8576b"
            ],
            [
             0.6666666666666666,
             "#ed7953"
            ],
            [
             0.7777777777777778,
             "#fb9f3a"
            ],
            [
             0.8888888888888888,
             "#fdca26"
            ],
            [
             1,
             "#f0f921"
            ]
           ]
          },
          "colorway": [
           "#636efa",
           "#EF553B",
           "#00cc96",
           "#ab63fa",
           "#FFA15A",
           "#19d3f3",
           "#FF6692",
           "#B6E880",
           "#FF97FF",
           "#FECB52"
          ],
          "font": {
           "color": "#2a3f5f"
          },
          "geo": {
           "bgcolor": "white",
           "lakecolor": "white",
           "landcolor": "#E5ECF6",
           "showlakes": true,
           "showland": true,
           "subunitcolor": "white"
          },
          "hoverlabel": {
           "align": "left"
          },
          "hovermode": "closest",
          "mapbox": {
           "style": "light"
          },
          "paper_bgcolor": "white",
          "plot_bgcolor": "#E5ECF6",
          "polar": {
           "angularaxis": {
            "gridcolor": "white",
            "linecolor": "white",
            "ticks": ""
           },
           "bgcolor": "#E5ECF6",
           "radialaxis": {
            "gridcolor": "white",
            "linecolor": "white",
            "ticks": ""
           }
          },
          "scene": {
           "xaxis": {
            "backgroundcolor": "#E5ECF6",
            "gridcolor": "white",
            "gridwidth": 2,
            "linecolor": "white",
            "showbackground": true,
            "ticks": "",
            "zerolinecolor": "white"
           },
           "yaxis": {
            "backgroundcolor": "#E5ECF6",
            "gridcolor": "white",
            "gridwidth": 2,
            "linecolor": "white",
            "showbackground": true,
            "ticks": "",
            "zerolinecolor": "white"
           },
           "zaxis": {
            "backgroundcolor": "#E5ECF6",
            "gridcolor": "white",
            "gridwidth": 2,
            "linecolor": "white",
            "showbackground": true,
            "ticks": "",
            "zerolinecolor": "white"
           }
          },
          "shapedefaults": {
           "line": {
            "color": "#2a3f5f"
           }
          },
          "ternary": {
           "aaxis": {
            "gridcolor": "white",
            "linecolor": "white",
            "ticks": ""
           },
           "baxis": {
            "gridcolor": "white",
            "linecolor": "white",
            "ticks": ""
           },
           "bgcolor": "#E5ECF6",
           "caxis": {
            "gridcolor": "white",
            "linecolor": "white",
            "ticks": ""
           }
          },
          "title": {
           "x": 0.05
          },
          "xaxis": {
           "automargin": true,
           "gridcolor": "white",
           "linecolor": "white",
           "ticks": "",
           "title": {
            "standoff": 15
           },
           "zerolinecolor": "white",
           "zerolinewidth": 2
          },
          "yaxis": {
           "automargin": true,
           "gridcolor": "white",
           "linecolor": "white",
           "ticks": "",
           "title": {
            "standoff": 15
           },
           "zerolinecolor": "white",
           "zerolinewidth": 2
          }
         }
        },
        "title": {
         "text": "Most Common Crime Scene by State"
        }
       }
      }
     },
     "metadata": {},
     "output_type": "display_data"
    }
   ],
   "source": [
    "# Create the choropleth map\n",
    "fig = go.Figure(data=go.Choropleth(\n",
    "    locations=state_colors['State'],  # Spatial coordinates\n",
    "    z=state_colors['MostCommonCrimeScene'].astype(\n",
    "        str),  # Data to be color-coded\n",
    "    locationmode='USA-states',  # Set of locations match entries in `locations`\n",
    "    colorscale=[[0, color_map[scene]] for scene in crime_scenes],  # Color scale\n",
    "    colorbar_title=\"Crime Scene\",\n",
    "))\n",
    "\n",
    "# Update layout for the map\n",
    "fig.update_layout(\n",
    "    title_text='Most Common Crime Scene by State',\n",
    "    geo_scope='usa',  # Limit map scope to USA\n",
    ")\n",
    "\n",
    "# Show the plot\n",
    "fig.show()"
   ]
  },
  {
   "cell_type": "code",
   "execution_count": 41,
   "metadata": {},
   "outputs": [
    {
     "data": {
      "application/vnd.plotly.v1+json": {
       "config": {
        "plotlyServerURL": "https://plot.ly"
       },
       "data": [
        {
         "colorscale": [
          [
           0,
           "rgb(141,211,199)"
          ],
          [
           1,
           "rgb(141,211,199)"
          ]
         ],
         "geo": "geo",
         "hovertemplate": "MostCommonCrimeScene=MI<br>State=%{location}<extra></extra>",
         "locationmode": "USA-states",
         "locations": [
          "Rest Area",
          "School-Elementary/Secondary"
         ],
         "name": "MI",
         "showlegend": true,
         "showscale": false,
         "type": "choropleth",
         "z": [
          1,
          1
         ]
        },
        {
         "colorscale": [
          [
           0,
           "rgb(255,255,179)"
          ],
          [
           1,
           "rgb(255,255,179)"
          ]
         ],
         "geo": "geo",
         "hovertemplate": "MostCommonCrimeScene=AK<br>State=%{location}<extra></extra>",
         "locationmode": "USA-states",
         "locations": [
          "Cyberspace",
          "Not Specified"
         ],
         "name": "AK",
         "showlegend": true,
         "showscale": false,
         "type": "choropleth",
         "z": [
          1,
          1
         ]
        },
        {
         "colorscale": [
          [
           0,
           "rgb(190,186,218)"
          ],
          [
           1,
           "rgb(190,186,218)"
          ]
         ],
         "geo": "geo",
         "hovertemplate": "MostCommonCrimeScene=TX<br>State=%{location}<extra></extra>",
         "locationmode": "USA-states",
         "locations": [
          "Restaurant",
          "Field/Woods",
          "Bar/Nightclub",
          "Shopping Mall",
          "Amusement Park",
          "Park/Playground",
          "Specialty Store",
          "Community Center",
          "Hotel/Motel/Etc.",
          "Construction Site",
          "Convenience Store",
          "Service/Gas Station",
          "Military Installation",
          "ATM Separate from Bank",
          "Parking/Drop Lot/Garage",
          "Rental Storage Facility",
          "Auto Dealership New/Used",
          "Department/Discount Store",
          "Commercial/Office Building",
          "Drug Store/Doctor's Office/Hospital",
          "Jail/Prison/Penitentiary/Corrections Facility"
         ],
         "name": "TX",
         "showlegend": true,
         "showscale": false,
         "type": "choropleth",
         "z": [
          1,
          1,
          1,
          1,
          1,
          1,
          1,
          1,
          1,
          1,
          1,
          1,
          1,
          1,
          1,
          1,
          1,
          1,
          1,
          1,
          1
         ]
        },
        {
         "colorscale": [
          [
           0,
           "rgb(251,128,114)"
          ],
          [
           1,
           "rgb(251,128,114)"
          ]
         ],
         "geo": "geo",
         "hovertemplate": "MostCommonCrimeScene=CO<br>State=%{location}<extra></extra>",
         "locationmode": "USA-states",
         "locations": [
          "Liquor Store",
          "Bank/Savings and Loan"
         ],
         "name": "CO",
         "showlegend": true,
         "showscale": false,
         "type": "choropleth",
         "z": [
          1,
          1
         ]
        },
        {
         "colorscale": [
          [
           0,
           "rgb(128,177,211)"
          ],
          [
           1,
           "rgb(128,177,211)"
          ]
         ],
         "geo": "geo",
         "hovertemplate": "MostCommonCrimeScene=AZ<br>State=%{location}<extra></extra>",
         "locationmode": "USA-states",
         "locations": [
          "Tribal Lands"
         ],
         "name": "AZ",
         "showlegend": true,
         "showscale": false,
         "type": "choropleth",
         "z": [
          1
         ]
        },
        {
         "colorscale": [
          [
           0,
           "rgb(253,180,98)"
          ],
          [
           1,
           "rgb(253,180,98)"
          ]
         ],
         "geo": "geo",
         "hovertemplate": "MostCommonCrimeScene=CA<br>State=%{location}<extra></extra>",
         "locationmode": "USA-states",
         "locations": [
          "Farm Facility"
         ],
         "name": "CA",
         "showlegend": true,
         "showscale": false,
         "type": "choropleth",
         "z": [
          1
         ]
        },
        {
         "colorscale": [
          [
           0,
           "rgb(179,222,105)"
          ],
          [
           1,
           "rgb(179,222,105)"
          ]
         ],
         "geo": "geo",
         "hovertemplate": "MostCommonCrimeScene=OH<br>State=%{location}<extra></extra>",
         "locationmode": "USA-states",
         "locations": [
          "Other/Unknown",
          "Industrial Site",
          "Abandoned/Condemned Structure",
          "Arena/Stadium/Fairgrounds/Coliseum",
          "Highway/Road/Alley/Street/Sidewalk"
         ],
         "name": "OH",
         "showlegend": true,
         "showscale": false,
         "type": "choropleth",
         "z": [
          1,
          1,
          1,
          1,
          1
         ]
        },
        {
         "colorscale": [
          [
           0,
           "rgb(252,205,229)"
          ],
          [
           1,
           "rgb(252,205,229)"
          ]
         ],
         "geo": "geo",
         "hovertemplate": "MostCommonCrimeScene=TN<br>State=%{location}<extra></extra>",
         "locationmode": "USA-states",
         "locations": [
          "Residence/Home",
          "Daycare Facility",
          "Church/Synagogue/Temple/Mosque"
         ],
         "name": "TN",
         "showlegend": true,
         "showscale": false,
         "type": "choropleth",
         "z": [
          1,
          1,
          1
         ]
        },
        {
         "colorscale": [
          [
           0,
           "rgb(217,217,217)"
          ],
          [
           1,
           "rgb(217,217,217)"
          ]
         ],
         "geo": "geo",
         "hovertemplate": "MostCommonCrimeScene=WA<br>State=%{location}<extra></extra>",
         "locationmode": "USA-states",
         "locations": [
          "School/College",
          "Grocery/Supermarket"
         ],
         "name": "WA",
         "showlegend": true,
         "showscale": false,
         "type": "choropleth",
         "z": [
          1,
          1
         ]
        },
        {
         "colorscale": [
          [
           0,
           "rgb(188,128,189)"
          ],
          [
           1,
           "rgb(188,128,189)"
          ]
         ],
         "geo": "geo",
         "hovertemplate": "MostCommonCrimeScene=OR<br>State=%{location}<extra></extra>",
         "locationmode": "USA-states",
         "locations": [
          "Camp/Campground"
         ],
         "name": "OR",
         "showlegend": true,
         "showscale": false,
         "type": "choropleth",
         "z": [
          1
         ]
        },
        {
         "colorscale": [
          [
           0,
           "rgb(204,235,197)"
          ],
          [
           1,
           "rgb(204,235,197)"
          ]
         ],
         "geo": "geo",
         "hovertemplate": "MostCommonCrimeScene=HI<br>State=%{location}<extra></extra>",
         "locationmode": "USA-states",
         "locations": [
          "Lake/Waterway/Beach"
         ],
         "name": "HI",
         "showlegend": true,
         "showscale": false,
         "type": "choropleth",
         "z": [
          1
         ]
        },
        {
         "colorscale": [
          [
           0,
           "rgb(255,237,111)"
          ],
          [
           1,
           "rgb(255,237,111)"
          ]
         ],
         "geo": "geo",
         "hovertemplate": "MostCommonCrimeScene=IL<br>State=%{location}<extra></extra>",
         "locationmode": "USA-states",
         "locations": [
          "Air/Bus/Train Terminal"
         ],
         "name": "IL",
         "showlegend": true,
         "showscale": false,
         "type": "choropleth",
         "z": [
          1
         ]
        },
        {
         "colorscale": [
          [
           0,
           "rgb(141,211,199)"
          ],
          [
           1,
           "rgb(141,211,199)"
          ]
         ],
         "geo": "geo",
         "hovertemplate": "MostCommonCrimeScene=UT<br>State=%{location}<extra></extra>",
         "locationmode": "USA-states",
         "locations": [
          "Shelter-Mission/Homeless"
         ],
         "name": "UT",
         "showlegend": true,
         "showscale": false,
         "type": "choropleth",
         "z": [
          1
         ]
        },
        {
         "colorscale": [
          [
           0,
           "rgb(255,255,179)"
          ],
          [
           1,
           "rgb(255,255,179)"
          ]
         ],
         "geo": "geo",
         "hovertemplate": "MostCommonCrimeScene=SC<br>State=%{location}<extra></extra>",
         "locationmode": "USA-states",
         "locations": [
          "School-College/University"
         ],
         "name": "SC",
         "showlegend": true,
         "showscale": false,
         "type": "choropleth",
         "z": [
          1
         ]
        },
        {
         "colorscale": [
          [
           0,
           "rgb(190,186,218)"
          ],
          [
           1,
           "rgb(190,186,218)"
          ]
         ],
         "geo": "geo",
         "hovertemplate": "MostCommonCrimeScene=MA<br>State=%{location}<extra></extra>",
         "locationmode": "USA-states",
         "locations": [
          "Government/Public Building"
         ],
         "name": "MA",
         "showlegend": true,
         "showscale": false,
         "type": "choropleth",
         "z": [
          1
         ]
        },
        {
         "colorscale": [
          [
           0,
           "rgb(251,128,114)"
          ],
          [
           1,
           "rgb(251,128,114)"
          ]
         ],
         "geo": "geo",
         "hovertemplate": "MostCommonCrimeScene=PA<br>State=%{location}<extra></extra>",
         "locationmode": "USA-states",
         "locations": [
          "Dock/Wharf/Freight/Modal Terminal"
         ],
         "name": "PA",
         "showlegend": true,
         "showscale": false,
         "type": "choropleth",
         "z": [
          1
         ]
        },
        {
         "colorscale": [
          [
           0,
           "rgb(128,177,211)"
          ],
          [
           1,
           "rgb(128,177,211)"
          ]
         ],
         "geo": "geo",
         "hovertemplate": "MostCommonCrimeScene=NC<br>State=%{location}<extra></extra>",
         "locationmode": "USA-states",
         "locations": [
          "Gambling Facility/Casino/Race Track"
         ],
         "name": "NC",
         "showlegend": true,
         "showscale": false,
         "type": "choropleth",
         "z": [
          1
         ]
        }
       ],
       "layout": {
        "geo": {
         "center": {},
         "domain": {
          "x": [
           0,
           1
          ],
          "y": [
           0,
           1
          ]
         },
         "scope": "usa"
        },
        "legend": {
         "title": {
          "text": "MostCommonCrimeScene"
         },
         "tracegroupgap": 0
        },
        "template": {
         "data": {
          "bar": [
           {
            "error_x": {
             "color": "#2a3f5f"
            },
            "error_y": {
             "color": "#2a3f5f"
            },
            "marker": {
             "line": {
              "color": "#E5ECF6",
              "width": 0.5
             },
             "pattern": {
              "fillmode": "overlay",
              "size": 10,
              "solidity": 0.2
             }
            },
            "type": "bar"
           }
          ],
          "barpolar": [
           {
            "marker": {
             "line": {
              "color": "#E5ECF6",
              "width": 0.5
             },
             "pattern": {
              "fillmode": "overlay",
              "size": 10,
              "solidity": 0.2
             }
            },
            "type": "barpolar"
           }
          ],
          "carpet": [
           {
            "aaxis": {
             "endlinecolor": "#2a3f5f",
             "gridcolor": "white",
             "linecolor": "white",
             "minorgridcolor": "white",
             "startlinecolor": "#2a3f5f"
            },
            "baxis": {
             "endlinecolor": "#2a3f5f",
             "gridcolor": "white",
             "linecolor": "white",
             "minorgridcolor": "white",
             "startlinecolor": "#2a3f5f"
            },
            "type": "carpet"
           }
          ],
          "choropleth": [
           {
            "colorbar": {
             "outlinewidth": 0,
             "ticks": ""
            },
            "type": "choropleth"
           }
          ],
          "contour": [
           {
            "colorbar": {
             "outlinewidth": 0,
             "ticks": ""
            },
            "colorscale": [
             [
              0,
              "#0d0887"
             ],
             [
              0.1111111111111111,
              "#46039f"
             ],
             [
              0.2222222222222222,
              "#7201a8"
             ],
             [
              0.3333333333333333,
              "#9c179e"
             ],
             [
              0.4444444444444444,
              "#bd3786"
             ],
             [
              0.5555555555555556,
              "#d8576b"
             ],
             [
              0.6666666666666666,
              "#ed7953"
             ],
             [
              0.7777777777777778,
              "#fb9f3a"
             ],
             [
              0.8888888888888888,
              "#fdca26"
             ],
             [
              1,
              "#f0f921"
             ]
            ],
            "type": "contour"
           }
          ],
          "contourcarpet": [
           {
            "colorbar": {
             "outlinewidth": 0,
             "ticks": ""
            },
            "type": "contourcarpet"
           }
          ],
          "heatmap": [
           {
            "colorbar": {
             "outlinewidth": 0,
             "ticks": ""
            },
            "colorscale": [
             [
              0,
              "#0d0887"
             ],
             [
              0.1111111111111111,
              "#46039f"
             ],
             [
              0.2222222222222222,
              "#7201a8"
             ],
             [
              0.3333333333333333,
              "#9c179e"
             ],
             [
              0.4444444444444444,
              "#bd3786"
             ],
             [
              0.5555555555555556,
              "#d8576b"
             ],
             [
              0.6666666666666666,
              "#ed7953"
             ],
             [
              0.7777777777777778,
              "#fb9f3a"
             ],
             [
              0.8888888888888888,
              "#fdca26"
             ],
             [
              1,
              "#f0f921"
             ]
            ],
            "type": "heatmap"
           }
          ],
          "heatmapgl": [
           {
            "colorbar": {
             "outlinewidth": 0,
             "ticks": ""
            },
            "colorscale": [
             [
              0,
              "#0d0887"
             ],
             [
              0.1111111111111111,
              "#46039f"
             ],
             [
              0.2222222222222222,
              "#7201a8"
             ],
             [
              0.3333333333333333,
              "#9c179e"
             ],
             [
              0.4444444444444444,
              "#bd3786"
             ],
             [
              0.5555555555555556,
              "#d8576b"
             ],
             [
              0.6666666666666666,
              "#ed7953"
             ],
             [
              0.7777777777777778,
              "#fb9f3a"
             ],
             [
              0.8888888888888888,
              "#fdca26"
             ],
             [
              1,
              "#f0f921"
             ]
            ],
            "type": "heatmapgl"
           }
          ],
          "histogram": [
           {
            "marker": {
             "pattern": {
              "fillmode": "overlay",
              "size": 10,
              "solidity": 0.2
             }
            },
            "type": "histogram"
           }
          ],
          "histogram2d": [
           {
            "colorbar": {
             "outlinewidth": 0,
             "ticks": ""
            },
            "colorscale": [
             [
              0,
              "#0d0887"
             ],
             [
              0.1111111111111111,
              "#46039f"
             ],
             [
              0.2222222222222222,
              "#7201a8"
             ],
             [
              0.3333333333333333,
              "#9c179e"
             ],
             [
              0.4444444444444444,
              "#bd3786"
             ],
             [
              0.5555555555555556,
              "#d8576b"
             ],
             [
              0.6666666666666666,
              "#ed7953"
             ],
             [
              0.7777777777777778,
              "#fb9f3a"
             ],
             [
              0.8888888888888888,
              "#fdca26"
             ],
             [
              1,
              "#f0f921"
             ]
            ],
            "type": "histogram2d"
           }
          ],
          "histogram2dcontour": [
           {
            "colorbar": {
             "outlinewidth": 0,
             "ticks": ""
            },
            "colorscale": [
             [
              0,
              "#0d0887"
             ],
             [
              0.1111111111111111,
              "#46039f"
             ],
             [
              0.2222222222222222,
              "#7201a8"
             ],
             [
              0.3333333333333333,
              "#9c179e"
             ],
             [
              0.4444444444444444,
              "#bd3786"
             ],
             [
              0.5555555555555556,
              "#d8576b"
             ],
             [
              0.6666666666666666,
              "#ed7953"
             ],
             [
              0.7777777777777778,
              "#fb9f3a"
             ],
             [
              0.8888888888888888,
              "#fdca26"
             ],
             [
              1,
              "#f0f921"
             ]
            ],
            "type": "histogram2dcontour"
           }
          ],
          "mesh3d": [
           {
            "colorbar": {
             "outlinewidth": 0,
             "ticks": ""
            },
            "type": "mesh3d"
           }
          ],
          "parcoords": [
           {
            "line": {
             "colorbar": {
              "outlinewidth": 0,
              "ticks": ""
             }
            },
            "type": "parcoords"
           }
          ],
          "pie": [
           {
            "automargin": true,
            "type": "pie"
           }
          ],
          "scatter": [
           {
            "fillpattern": {
             "fillmode": "overlay",
             "size": 10,
             "solidity": 0.2
            },
            "type": "scatter"
           }
          ],
          "scatter3d": [
           {
            "line": {
             "colorbar": {
              "outlinewidth": 0,
              "ticks": ""
             }
            },
            "marker": {
             "colorbar": {
              "outlinewidth": 0,
              "ticks": ""
             }
            },
            "type": "scatter3d"
           }
          ],
          "scattercarpet": [
           {
            "marker": {
             "colorbar": {
              "outlinewidth": 0,
              "ticks": ""
             }
            },
            "type": "scattercarpet"
           }
          ],
          "scattergeo": [
           {
            "marker": {
             "colorbar": {
              "outlinewidth": 0,
              "ticks": ""
             }
            },
            "type": "scattergeo"
           }
          ],
          "scattergl": [
           {
            "marker": {
             "colorbar": {
              "outlinewidth": 0,
              "ticks": ""
             }
            },
            "type": "scattergl"
           }
          ],
          "scattermapbox": [
           {
            "marker": {
             "colorbar": {
              "outlinewidth": 0,
              "ticks": ""
             }
            },
            "type": "scattermapbox"
           }
          ],
          "scatterpolar": [
           {
            "marker": {
             "colorbar": {
              "outlinewidth": 0,
              "ticks": ""
             }
            },
            "type": "scatterpolar"
           }
          ],
          "scatterpolargl": [
           {
            "marker": {
             "colorbar": {
              "outlinewidth": 0,
              "ticks": ""
             }
            },
            "type": "scatterpolargl"
           }
          ],
          "scatterternary": [
           {
            "marker": {
             "colorbar": {
              "outlinewidth": 0,
              "ticks": ""
             }
            },
            "type": "scatterternary"
           }
          ],
          "surface": [
           {
            "colorbar": {
             "outlinewidth": 0,
             "ticks": ""
            },
            "colorscale": [
             [
              0,
              "#0d0887"
             ],
             [
              0.1111111111111111,
              "#46039f"
             ],
             [
              0.2222222222222222,
              "#7201a8"
             ],
             [
              0.3333333333333333,
              "#9c179e"
             ],
             [
              0.4444444444444444,
              "#bd3786"
             ],
             [
              0.5555555555555556,
              "#d8576b"
             ],
             [
              0.6666666666666666,
              "#ed7953"
             ],
             [
              0.7777777777777778,
              "#fb9f3a"
             ],
             [
              0.8888888888888888,
              "#fdca26"
             ],
             [
              1,
              "#f0f921"
             ]
            ],
            "type": "surface"
           }
          ],
          "table": [
           {
            "cells": {
             "fill": {
              "color": "#EBF0F8"
             },
             "line": {
              "color": "white"
             }
            },
            "header": {
             "fill": {
              "color": "#C8D4E3"
             },
             "line": {
              "color": "white"
             }
            },
            "type": "table"
           }
          ]
         },
         "layout": {
          "annotationdefaults": {
           "arrowcolor": "#2a3f5f",
           "arrowhead": 0,
           "arrowwidth": 1
          },
          "autotypenumbers": "strict",
          "coloraxis": {
           "colorbar": {
            "outlinewidth": 0,
            "ticks": ""
           }
          },
          "colorscale": {
           "diverging": [
            [
             0,
             "#8e0152"
            ],
            [
             0.1,
             "#c51b7d"
            ],
            [
             0.2,
             "#de77ae"
            ],
            [
             0.3,
             "#f1b6da"
            ],
            [
             0.4,
             "#fde0ef"
            ],
            [
             0.5,
             "#f7f7f7"
            ],
            [
             0.6,
             "#e6f5d0"
            ],
            [
             0.7,
             "#b8e186"
            ],
            [
             0.8,
             "#7fbc41"
            ],
            [
             0.9,
             "#4d9221"
            ],
            [
             1,
             "#276419"
            ]
           ],
           "sequential": [
            [
             0,
             "#0d0887"
            ],
            [
             0.1111111111111111,
             "#46039f"
            ],
            [
             0.2222222222222222,
             "#7201a8"
            ],
            [
             0.3333333333333333,
             "#9c179e"
            ],
            [
             0.4444444444444444,
             "#bd3786"
            ],
            [
             0.5555555555555556,
             "#d8576b"
            ],
            [
             0.6666666666666666,
             "#ed7953"
            ],
            [
             0.7777777777777778,
             "#fb9f3a"
            ],
            [
             0.8888888888888888,
             "#fdca26"
            ],
            [
             1,
             "#f0f921"
            ]
           ],
           "sequentialminus": [
            [
             0,
             "#0d0887"
            ],
            [
             0.1111111111111111,
             "#46039f"
            ],
            [
             0.2222222222222222,
             "#7201a8"
            ],
            [
             0.3333333333333333,
             "#9c179e"
            ],
            [
             0.4444444444444444,
             "#bd3786"
            ],
            [
             0.5555555555555556,
             "#d8576b"
            ],
            [
             0.6666666666666666,
             "#ed7953"
            ],
            [
             0.7777777777777778,
             "#fb9f3a"
            ],
            [
             0.8888888888888888,
             "#fdca26"
            ],
            [
             1,
             "#f0f921"
            ]
           ]
          },
          "colorway": [
           "#636efa",
           "#EF553B",
           "#00cc96",
           "#ab63fa",
           "#FFA15A",
           "#19d3f3",
           "#FF6692",
           "#B6E880",
           "#FF97FF",
           "#FECB52"
          ],
          "font": {
           "color": "#2a3f5f"
          },
          "geo": {
           "bgcolor": "white",
           "lakecolor": "white",
           "landcolor": "#E5ECF6",
           "showlakes": true,
           "showland": true,
           "subunitcolor": "white"
          },
          "hoverlabel": {
           "align": "left"
          },
          "hovermode": "closest",
          "mapbox": {
           "style": "light"
          },
          "paper_bgcolor": "white",
          "plot_bgcolor": "#E5ECF6",
          "polar": {
           "angularaxis": {
            "gridcolor": "white",
            "linecolor": "white",
            "ticks": ""
           },
           "bgcolor": "#E5ECF6",
           "radialaxis": {
            "gridcolor": "white",
            "linecolor": "white",
            "ticks": ""
           }
          },
          "scene": {
           "xaxis": {
            "backgroundcolor": "#E5ECF6",
            "gridcolor": "white",
            "gridwidth": 2,
            "linecolor": "white",
            "showbackground": true,
            "ticks": "",
            "zerolinecolor": "white"
           },
           "yaxis": {
            "backgroundcolor": "#E5ECF6",
            "gridcolor": "white",
            "gridwidth": 2,
            "linecolor": "white",
            "showbackground": true,
            "ticks": "",
            "zerolinecolor": "white"
           },
           "zaxis": {
            "backgroundcolor": "#E5ECF6",
            "gridcolor": "white",
            "gridwidth": 2,
            "linecolor": "white",
            "showbackground": true,
            "ticks": "",
            "zerolinecolor": "white"
           }
          },
          "shapedefaults": {
           "line": {
            "color": "#2a3f5f"
           }
          },
          "ternary": {
           "aaxis": {
            "gridcolor": "white",
            "linecolor": "white",
            "ticks": ""
           },
           "baxis": {
            "gridcolor": "white",
            "linecolor": "white",
            "ticks": ""
           },
           "bgcolor": "#E5ECF6",
           "caxis": {
            "gridcolor": "white",
            "linecolor": "white",
            "ticks": ""
           }
          },
          "title": {
           "x": 0.05
          },
          "xaxis": {
           "automargin": true,
           "gridcolor": "white",
           "linecolor": "white",
           "ticks": "",
           "title": {
            "standoff": 15
           },
           "zerolinecolor": "white",
           "zerolinewidth": 2
          },
          "yaxis": {
           "automargin": true,
           "gridcolor": "white",
           "linecolor": "white",
           "ticks": "",
           "title": {
            "standoff": 15
           },
           "zerolinecolor": "white",
           "zerolinewidth": 2
          }
         }
        },
        "title": {
         "text": "Most Common Crime Scene by State"
        }
       }
      }
     },
     "metadata": {},
     "output_type": "display_data"
    }
   ],
   "source": [
    "# this isn't working very well i'm going to try something else\n",
    "\n",
    "import plotly.express as px\n",
    "\n",
    "fig = px.choropleth(\n",
    "    commoncrimescene, \n",
    "    locations='State', \n",
    "    locationmode='USA-states', \n",
    "    color='MostCommonCrimeScene', \n",
    "    scope='usa',\n",
    "    title=f'Most Common Crime Scene by State',\n",
    "    color_discrete_sequence=px.colors.qualitative.Set3  \n",
    ")\n",
    "\n",
    "fig.show()"
   ]
  },
  {
   "cell_type": "code",
   "execution_count": 44,
   "metadata": {},
   "outputs": [],
   "source": [
    "# Indi - work on robbery rate vs law enforcement employees by year\n",
    "\n",
    "# employees 2012-2022\n",
    "\n",
    "employees_url  = f'https://api.usa.gov/crime/fbi/cde/pe?from=2012&to=2022&API_KEY={key}'\n",
    "\n",
    "response = requests.get(employees_url)\n",
    "if response.status_code == 200:\n",
    "    employees = response.json()\n",
    "else:\n",
    "    print(f\"Error: {response.status_code}\")"
   ]
  },
  {
   "cell_type": "code",
   "execution_count": 49,
   "metadata": {},
   "outputs": [],
   "source": [
    "male = employees.get('actuals').get('Male Officers').values()\n",
    "female = employees.get('actuals').get('Female Officers').values()"
   ]
  },
  {
   "cell_type": "code",
   "execution_count": 70,
   "metadata": {},
   "outputs": [],
   "source": [
    "per = employees.get('rates').get('Officers per 1,000 People').values()"
   ]
  },
  {
   "cell_type": "code",
   "execution_count": 4,
   "metadata": {},
   "outputs": [],
   "source": [
    "# national robbery 2012-2022 by year\n",
    "\n",
    "base_url = 'https://api.usa.gov/crime/fbi/cde/nibrs/national/robbery?from={}&type=Counts&to={}&API_KEY=' + key\n",
    "\n",
    "rob_by_year = {}\n",
    "\n",
    "for year in range(2012, 2023):\n",
    "    url = base_url.format(f'1-{year}', f'12-{year}')\n",
    "    response = requests.get(url)\n",
    "    if response.status_code == 200:\n",
    "        rob_by_year[year] = response.json()\n",
    "    else:\n",
    "        print(f\"Error: {response.status_code}\")\n"
   ]
  },
  {
   "cell_type": "code",
   "execution_count": 71,
   "metadata": {},
   "outputs": [
    {
     "ename": "NameError",
     "evalue": "name 'male' is not defined",
     "output_type": "error",
     "traceback": [
      "\u001b[1;31m---------------------------------------------------------------------------\u001b[0m",
      "\u001b[1;31mNameError\u001b[0m                                 Traceback (most recent call last)",
      "Cell \u001b[1;32mIn[36], line 7\u001b[0m\n\u001b[0;32m      3\u001b[0m \u001b[38;5;28;01mfor\u001b[39;00m year \u001b[38;5;129;01min\u001b[39;00m \u001b[38;5;28mrange\u001b[39m(\u001b[38;5;241m2012\u001b[39m, \u001b[38;5;241m2023\u001b[39m):\n\u001b[0;32m      4\u001b[0m     rob_per_year\u001b[38;5;241m.\u001b[39mappend(\n\u001b[0;32m      5\u001b[0m         \u001b[38;5;28msum\u001b[39m(rob_by_year\u001b[38;5;241m.\u001b[39mget(year)\u001b[38;5;241m.\u001b[39mget(\u001b[38;5;124m'\u001b[39m\u001b[38;5;124mvictim\u001b[39m\u001b[38;5;124m'\u001b[39m)\u001b[38;5;241m.\u001b[39mget(\u001b[38;5;124m'\u001b[39m\u001b[38;5;124msex\u001b[39m\u001b[38;5;124m'\u001b[39m)\u001b[38;5;241m.\u001b[39mvalues()))\n\u001b[1;32m----> 7\u001b[0m employees_df \u001b[38;5;241m=\u001b[39m pd\u001b[38;5;241m.\u001b[39mDataFrame([\u001b[38;5;28mrange\u001b[39m(\u001b[38;5;241m2012\u001b[39m, \u001b[38;5;241m2023\u001b[39m), rob_per_year, \u001b[43mmale\u001b[49m, female, per])\u001b[38;5;241m.\u001b[39mT\n\u001b[0;32m      8\u001b[0m employees_df\u001b[38;5;241m.\u001b[39mcolumns \u001b[38;5;241m=\u001b[39m [\u001b[38;5;124m'\u001b[39m\u001b[38;5;124mYear\u001b[39m\u001b[38;5;124m'\u001b[39m, \u001b[38;5;124m'\u001b[39m\u001b[38;5;124mRobberies\u001b[39m\u001b[38;5;124m'\u001b[39m, \u001b[38;5;124m'\u001b[39m\u001b[38;5;124mMale_Officers\u001b[39m\u001b[38;5;124m'\u001b[39m, \u001b[38;5;124m'\u001b[39m\u001b[38;5;124mFemale_Officers\u001b[39m\u001b[38;5;124m'\u001b[39m, \u001b[38;5;124m'\u001b[39m\u001b[38;5;124mOfficers_per_1k\u001b[39m\u001b[38;5;124m'\u001b[39m]\n\u001b[0;32m      9\u001b[0m employees_df\u001b[38;5;241m.\u001b[39mset_index(\u001b[38;5;124m'\u001b[39m\u001b[38;5;124mYear\u001b[39m\u001b[38;5;124m'\u001b[39m, inplace\u001b[38;5;241m=\u001b[39m\u001b[38;5;28;01mTrue\u001b[39;00m)\n",
      "\u001b[1;31mNameError\u001b[0m: name 'male' is not defined"
     ]
    }
   ],
   "source": [
    "rob_per_year = []\n",
    "\n",
    "for year in range(2012, 2023):\n",
    "    rob_per_year.append(\n",
    "        sum(rob_by_year.get(year).get('victim').get('sex').values()))\n",
    "\n",
    "employees_df = pd.DataFrame([range(2012, 2023), rob_per_year, male, female, per]).T\n",
    "employees_df.columns = ['Year', 'Robberies', 'Male_Officers', 'Female_Officers', 'Officers_per_1k']\n",
    "employees_df.set_index('Year', inplace=True)\n",
    "employees_df.to_csv('employees.csv')"
   ]
  },
  {
   "cell_type": "code",
   "execution_count": 37,
   "metadata": {},
   "outputs": [],
   "source": [
    "employees_df = pd.read_csv('employees.csv')"
   ]
  },
  {
   "cell_type": "code",
   "execution_count": 38,
   "metadata": {},
   "outputs": [
    {
     "data": {
      "image/png": "[encoded data removed]",
      "text/plain": [
       "<Figure size 640x480 with 2 Axes>"
      ]
     },
     "metadata": {},
     "output_type": "display_data"
    },
    {
     "name": "stdout",
     "output_type": "stream",
     "text": [
      "0.6648185233967915\n"
     ]
    }
   ],
   "source": [
    "fig, ax1 = plt.subplots()\n",
    "\n",
    "# Plot the 'Robberies' on the left y-axis\n",
    "sns.lineplot(data=employees_df, x='Year', y='Robberies',\n",
    "             ax=ax1, label='Robberies', color='b')\n",
    "ax1.set_ylabel('Robberies', color='b')\n",
    "ax1.tick_params(axis='y', labelcolor='b')\n",
    "\n",
    "# Create a secondary y-axis\n",
    "ax2 = ax1.twinx()\n",
    "\n",
    "# Plot the 'Officers_per_1k' on the right y-axis\n",
    "sns.lineplot(data=employees_df, x='Year', y='Officers_per_1k',\n",
    "             ax=ax2, label='Officers per 1k people', color='r')\n",
    "ax2.set_ylabel('Officers per 1k', color='r')\n",
    "ax2.tick_params(axis='y', labelcolor='r')\n",
    "\n",
    "lines, labels = ax1.get_legend_handles_labels()\n",
    "lines2, labels2 = ax2.get_legend_handles_labels()\n",
    "plt.legend(lines + lines2, labels + labels2, loc='upper left')\n",
    "plt.title('Robberies vs Officers per 1k people')\n",
    "\n",
    "plt.show()\n",
    "print(employees_df.Robberies.corr(employees_df.Officers_per_1k))"
   ]
  },
  {
   "cell_type": "code",
   "execution_count": 6,
   "metadata": {},
   "outputs": [],
   "source": [
    "# national robbery 2012-2022 by month\n",
    "\n",
    "base_url = 'https://api.usa.gov/crime/fbi/cde/nibrs/national/robbery?from={}&type=Counts&to={}&API_KEY=' + key\n",
    "\n",
    "rob_month = {}\n",
    "\n",
    "for year in range(2012, 2023):\n",
    "    for month in range(1, 13):\n",
    "        url = base_url.format(f'{month}-{year}', f'{month}-{year}')\n",
    "        response = requests.get(url)\n",
    "        if response.status_code == 200:\n",
    "            rob_month[f'{month}-{year}'] = response.json()\n",
    "        else:\n",
    "            print(f\"Error: {response.status_code}\")"
   ]
  },
  {
   "cell_type": "code",
   "execution_count": 99,
   "metadata": {},
   "outputs": [],
   "source": [
    "month_list = {}\n",
    "\n",
    "for year in range(2012, 2023):\n",
    "    for month in range(1, 13):\n",
    "        month_list[f'{month}-{year}'] = (pd.Series(rob_month.get(\n",
    "            f'{month}-{year}').get('offense').get('weapons')))\n",
    "\n",
    "weapons_df = pd.DataFrame(month_list).T\n",
    "weapons_df.to_csv('weapons.csv', index_label='Date')"
   ]
  },
  {
   "cell_type": "code",
   "execution_count": 42,
   "metadata": {},
   "outputs": [],
   "source": [
    "weapons_df = pd.read_csv('weapons.csv')\n",
    "weapons_df.Date = pd.to_datetime(weapons_df.Date, format='%m-%Y')\n",
    "weapons_df.set_index('Date', inplace=True)"
   ]
  },
  {
   "cell_type": "code",
   "execution_count": 43,
   "metadata": {},
   "outputs": [
    {
     "data": {
      "text/plain": [
       "Handgun                            313211\n",
       "Personal Weapons                   303741\n",
       "None                                97963\n",
       "Firearm                             81801\n",
       "Knife/Cutting Instrument            80929\n",
       "Other                               40826\n",
       "Unknown                             34662\n",
       "Blunt Object                        29678\n",
       "Handgun (Automatic)                 18331\n",
       "Rifle                                7848\n",
       "Shotgun                              6709\n",
       "Other Firearm                        6571\n",
       "Motor Vehicle/Vessel                 5196\n",
       "Firearm (Automatic)                  3832\n",
       "Asphyxiation                         1004\n",
       "Rifle (Automatic)                     741\n",
       "Explosives                            591\n",
       "Poison                                555\n",
       "Other Firearm (Automatic)             293\n",
       "Drugs/Narcotics/Sleeping Pills        281\n",
       "Fire/Incendiary Device                275\n",
       "Shotgun (Automatic)                    90\n",
       "Drowning                                0\n",
       "Unarmed                                 0\n",
       "Lethal Cutting Instrument               0\n",
       "Pushed or Thrown Out Window             0\n",
       "Club/Blackjack/Brass Knuckles           0\n",
       "Strangulation - Include Hanging         0\n",
       "dtype: int64"
      ]
     },
     "execution_count": 43,
     "metadata": {},
     "output_type": "execute_result"
    }
   ],
   "source": [
    "weapons_df.sum(axis=0).sort_values(ascending=False)"
   ]
  },
  {
   "cell_type": "code",
   "execution_count": 44,
   "metadata": {},
   "outputs": [],
   "source": [
    "weapons_df['Firearm'] = weapons_df[['Firearm', 'Rifle', 'Handgun', 'Shotgun', 'Other Firearm']].sum(axis=1)\n",
    "weapons_df.drop(['Rifle', 'Handgun', 'Shotgun', 'Other Firearm'], axis=1, inplace=True)"
   ]
  },
  {
   "cell_type": "code",
   "execution_count": 45,
   "metadata": {},
   "outputs": [],
   "source": [
    "weapons_df['Firearm (Automatic)'] = weapons_df[['Rifle (Automatic)', 'Handgun (Automatic)', 'Shotgun (Automatic)', 'Firearm (Automatic)', 'Other Firearm (Automatic)']].sum(axis=1)\n",
    "weapons_df.drop(['Rifle (Automatic)', 'Handgun (Automatic)', 'Shotgun (Automatic)', 'Other Firearm (Automatic)'], axis=1, inplace=True)"
   ]
  },
  {
   "cell_type": "code",
   "execution_count": 46,
   "metadata": {},
   "outputs": [],
   "source": [
    "weapons_df['Unknown'] = weapons_df[['Unknown', 'None']].sum(axis=1)\n",
    "weapons_df.drop(['None'], axis=1, inplace=True)"
   ]
  },
  {
   "cell_type": "code",
   "execution_count": 47,
   "metadata": {},
   "outputs": [],
   "source": [
    "weapons_df.drop(['Pushed or Thrown Out Window', 'Unarmed', 'Drowning', 'Lethal Cutting Instrument', 'Club/Blackjack/Brass Knuckles',\n",
    "                'Strangulation - Include Hanging', 'Drugs/Narcotics/Sleeping Pills', 'Fire/Incendiary Device', 'Poison'], axis=1, inplace=True)"
   ]
  },
  {
   "cell_type": "code",
   "execution_count": 49,
   "metadata": {},
   "outputs": [
    {
     "data": {
      "image/png": "[encoded data removed]",
      "text/plain": [
       "<Figure size 1200x800 with 1 Axes>"
      ]
     },
     "metadata": {},
     "output_type": "display_data"
    }
   ],
   "source": [
    "weapons_df.plot(kind='line', figsize=(12, 8))\n",
    "\n",
    "plt.xlabel('Date')\n",
    "plt.ylabel('Frequency')\n",
    "plt.title('Frequency of Weapons Used in Robbery over Time')\n",
    "plt.legend(title='Weapon', loc='lower left')\n",
    "plt.yscale('log')\n",
    "\n",
    "plt.show()"
   ]
  },
  {
   "cell_type": "code",
   "execution_count": 31,
   "metadata": {},
   "outputs": [],
   "source": [
    "years = list(range(2012, 2023))\n",
    "age_30_plus = {year: 0 for year in years}\n",
    "age_29_or_less = {year: 0 for year in years}\n",
    "\n",
    "for year in years:\n",
    "\n",
    "    for age in rob_by_year[year].get('offender').get('age'):\n",
    "        if age == '0-9' or age == '10-19' or age == '20-29':\n",
    "            age_29_or_less[year] += rob_by_year[year].get(\n",
    "                'offender').get('age').get(age)\n",
    "        elif age != 'Unkown':\n",
    "            age_30_plus[year] += rob_by_year[year].get(\n",
    "                'offender').get('age').get(age)"
   ]
  },
  {
   "cell_type": "code",
   "execution_count": 35,
   "metadata": {},
   "outputs": [
    {
     "data": {
      "image/png": "[encoded data removed]",
      "text/plain": [
       "<Figure size 640x480 with 1 Axes>"
      ]
     },
     "metadata": {},
     "output_type": "display_data"
    }
   ],
   "source": [
    "sns.lineplot(x=years, y=list(age_29_or_less.values()), label='Age 29 or Less')\n",
    "sns.lineplot(x=years, y=list(age_30_plus.values()), label='Age 30 or More')\n",
    "plt.xlabel('Year')\n",
    "plt.ylabel('Frequency')\n",
    "plt.title('Frequency of Robberies by Age over Time')\n",
    "plt.show()"
   ]
  },
  {
   "cell_type": "code",
   "execution_count": 34,
   "metadata": {},
   "outputs": [
    {
     "name": "stdout",
     "output_type": "stream",
     "text": [
      "T-Statistic: -0.8707766606491733\n",
      "P-Value: 0.8028958246288136\n"
     ]
    }
   ],
   "source": [
    "t_stat, p_value = ttest_ind(\n",
    "    list(age_30_plus.values()), list(age_29_or_less.values()), alternative='greater')\n",
    "\n",
    "print(f\"T-Statistic: {t_stat}\")\n",
    "print(f\"P-Value: {p_value}\")"
   ]
  },
  {
   "cell_type": "code",
   "execution_count": 72,
   "metadata": {},
   "outputs": [
    {
     "data": {
      "image/png": "[encoded data removed]",
      "text/plain": [
       "<Figure size 800x600 with 1 Axes>"
      ]
     },
     "metadata": {},
     "output_type": "display_data"
    }
   ],
   "source": [
    "sum_30_plus = sum(list(age_30_plus.values()))\n",
    "sum_29_or_less = sum(list(age_29_or_less.values()))\n",
    "\n",
    "total_sum = sum_30_plus + sum_29_or_less\n",
    "\n",
    "prop_30_plus = sum_30_plus / total_sum\n",
    "prop_29_or_less = sum_29_or_less / total_sum\n",
    "\n",
    "data = {\n",
    "    'Age Group': ['29 or less', '30+'],\n",
    "    'Actuals': [sum_29_or_less, sum_30_plus],\n",
    "    'Proportion of Robberies': [prop_29_or_less, prop_30_plus]\n",
    "}\n",
    "df = pd.DataFrame(data)\n",
    "\n",
    "plt.figure(figsize=(8, 6))\n",
    "ax = sns.barplot(x='Age Group', y='Actuals', data=df, hue='Age Group')\n",
    "\n",
    "for state, row in df.iterrows():\n",
    "    ax.text(state, row['Actuals'] + 5000.0,\n",
    "            f\"{row['Proportion of Robberies']:.2%}\", ha='center')\n",
    "\n",
    "plt.xlabel('Age Group')\n",
    "plt.ylabel('Number of Robberies')\n",
    "plt.title('Number of Robberies by Age Group')\n",
    "\n",
    "plt.show()"
   ]
  }
 ],
 "metadata": {
  "kernelspec": {
   "display_name": "ds",
   "language": "python",
   "name": "python3"
  },
  "language_info": {
   "codemirror_mode": {
    "name": "ipython",
    "version": 3
   },
   "file_extension": ".py",
   "mimetype": "text/x-python",
   "name": "python",
   "nbconvert_exporter": "python",
   "pygments_lexer": "ipython3",
   "version": "3.12.5"
  }
 },
 "nbformat": 4,
 "nbformat_minor": 2
}
